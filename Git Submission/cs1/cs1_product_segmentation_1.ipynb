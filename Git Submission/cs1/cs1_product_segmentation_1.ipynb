{
 "cells": [
  {
   "cell_type": "code",
   "execution_count": 1,
   "id": "e0942782",
   "metadata": {},
   "outputs": [],
   "source": [
    "import pandas as pd\n",
    "import numpy as np\n",
    "from openpyxl import Workbook\n",
    "from openpyxl.utils.dataframe import dataframe_to_rows\n",
    "import re"
   ]
  },
  {
   "cell_type": "code",
   "execution_count": 2,
   "id": "11e0bc6e",
   "metadata": {},
   "outputs": [],
   "source": [
    "df_transaction = pd.read_csv(r'C:\\Users\\Saurabh Mulgaonkar\\Jupyter_Notebooks\\IT_Vedant_Files\\Projects\\Final_Project\\Python_Files\\cleaned_data\\transaction_cleaned.csv')"
   ]
  },
  {
   "cell_type": "code",
   "execution_count": 3,
   "id": "a6872094",
   "metadata": {},
   "outputs": [],
   "source": [
    "# str to datetime\n",
    "#df_transaction['OrderDate'] = pd.to_datetime(df_transaction['OrderDate'], format=\"%Y-%m-%d\")"
   ]
  },
  {
   "cell_type": "code",
   "execution_count": 4,
   "id": "955e6ae6",
   "metadata": {},
   "outputs": [],
   "source": [
    "# correcting below to their absolute values\n",
    "df_transaction['SaleValue'] = np.absolute(df_transaction['SaleValue'])\n",
    "df_transaction['OrderedQuantity'] = np.absolute(df_transaction['OrderedQuantity'])"
   ]
  },
  {
   "cell_type": "code",
   "execution_count": 5,
   "id": "06546c13",
   "metadata": {},
   "outputs": [],
   "source": [
    "# ordered qty >0 and price >0\n",
    "df_transaction = df_transaction[df_transaction['OrderedQuantity']>0]\n",
    "df_transaction = df_transaction[df_transaction['SaleValue']>0]"
   ]
  },
  {
   "cell_type": "code",
   "execution_count": 6,
   "id": "a73bec68",
   "metadata": {},
   "outputs": [],
   "source": [
    "## Product Segmentation\n",
    "# TVs, Laptops and Mobile Phones"
   ]
  },
  {
   "cell_type": "code",
   "execution_count": 7,
   "id": "439d3f35",
   "metadata": {},
   "outputs": [
    {
     "data": {
      "text/html": [
       "<div>\n",
       "<style scoped>\n",
       "    .dataframe tbody tr th:only-of-type {\n",
       "        vertical-align: middle;\n",
       "    }\n",
       "\n",
       "    .dataframe tbody tr th {\n",
       "        vertical-align: top;\n",
       "    }\n",
       "\n",
       "    .dataframe thead th {\n",
       "        text-align: right;\n",
       "    }\n",
       "</style>\n",
       "<table border=\"1\" class=\"dataframe\">\n",
       "  <thead>\n",
       "    <tr style=\"text-align: right;\">\n",
       "      <th></th>\n",
       "      <th>CustID</th>\n",
       "      <th>ItemDesc</th>\n",
       "      <th>MerchClassDescription</th>\n",
       "      <th>MerchGroupDescription</th>\n",
       "      <th>SaleValue</th>\n",
       "      <th>OrderedQuantity</th>\n",
       "      <th>OrderDate</th>\n",
       "      <th>ReturnFlag</th>\n",
       "      <th>SalesChannelCode</th>\n",
       "      <th>Ecom_BnM_Indicator</th>\n",
       "      <th>StoreID</th>\n",
       "      <th>StoreCode</th>\n",
       "      <th>StoreCity</th>\n",
       "      <th>StoreState</th>\n",
       "      <th>StorePincode</th>\n",
       "    </tr>\n",
       "  </thead>\n",
       "  <tbody>\n",
       "    <tr>\n",
       "      <th>0</th>\n",
       "      <td>JFRGRFjeEJVG8RJF8R1Foj8AJJ7Et8oH</td>\n",
       "      <td>APPLE PROTECTION PLAN MACBOOK PRO</td>\n",
       "      <td>Mobile Computing</td>\n",
       "      <td>Computers Peripherals</td>\n",
       "      <td>25398.00</td>\n",
       "      <td>1</td>\n",
       "      <td>2019-01-01</td>\n",
       "      <td>U</td>\n",
       "      <td>RS</td>\n",
       "      <td>B&amp;M</td>\n",
       "      <td>83</td>\n",
       "      <td>A129</td>\n",
       "      <td>Pune</td>\n",
       "      <td>Maharashtra</td>\n",
       "      <td>411014</td>\n",
       "    </tr>\n",
       "    <tr>\n",
       "      <th>1</th>\n",
       "      <td>JFRGRFjeEJVG8RJF8R1Foj8AJJ7Et8oH</td>\n",
       "      <td>MacBook Pro 16 2.6GH i7 9G 16GB 512GB SG</td>\n",
       "      <td>Mobile Computing</td>\n",
       "      <td>Computers Peripherals</td>\n",
       "      <td>193703.10</td>\n",
       "      <td>1</td>\n",
       "      <td>2019-01-01</td>\n",
       "      <td>U</td>\n",
       "      <td>RS</td>\n",
       "      <td>B&amp;M</td>\n",
       "      <td>83</td>\n",
       "      <td>A129</td>\n",
       "      <td>Pune</td>\n",
       "      <td>Maharashtra</td>\n",
       "      <td>411014</td>\n",
       "    </tr>\n",
       "    <tr>\n",
       "      <th>2</th>\n",
       "      <td>V1AG7tA7E1tMVjt7tVH7JARR11AVotet</td>\n",
       "      <td>Samsung Galaxy A70 S 6GB White</td>\n",
       "      <td>Smart Phones (OS Based)</td>\n",
       "      <td>Communication</td>\n",
       "      <td>26518.98</td>\n",
       "      <td>1</td>\n",
       "      <td>2019-01-01</td>\n",
       "      <td>U</td>\n",
       "      <td>RS</td>\n",
       "      <td>B&amp;M</td>\n",
       "      <td>79</td>\n",
       "      <td>A122</td>\n",
       "      <td>Ghaziabad</td>\n",
       "      <td>Delhi NCR</td>\n",
       "      <td>201001</td>\n",
       "    </tr>\n",
       "    <tr>\n",
       "      <th>4</th>\n",
       "      <td>tAEVH8jEG1Eoe1GE1JEojJetVtMGFjto</td>\n",
       "      <td>DELL New bag pack</td>\n",
       "      <td>Mobile Computing</td>\n",
       "      <td>Computers Peripherals</td>\n",
       "      <td>1120.98</td>\n",
       "      <td>1</td>\n",
       "      <td>2019-01-01</td>\n",
       "      <td>U</td>\n",
       "      <td>RS</td>\n",
       "      <td>B&amp;M</td>\n",
       "      <td>8</td>\n",
       "      <td>A010</td>\n",
       "      <td>Surat</td>\n",
       "      <td>Gujarat</td>\n",
       "      <td>395007</td>\n",
       "    </tr>\n",
       "    <tr>\n",
       "      <th>5</th>\n",
       "      <td>JRVjoAHoE8R1MJ7RRjJHFEHVVo1EtF1A</td>\n",
       "      <td>Skullcandy Ephone W/Mic Jib Blue</td>\n",
       "      <td>Earphones/Headphones</td>\n",
       "      <td>Entertainment</td>\n",
       "      <td>916.98</td>\n",
       "      <td>1</td>\n",
       "      <td>2019-01-01</td>\n",
       "      <td>U</td>\n",
       "      <td>RS</td>\n",
       "      <td>B&amp;M</td>\n",
       "      <td>9</td>\n",
       "      <td>A011</td>\n",
       "      <td>Pune</td>\n",
       "      <td>Maharashtra</td>\n",
       "      <td>411007</td>\n",
       "    </tr>\n",
       "  </tbody>\n",
       "</table>\n",
       "</div>"
      ],
      "text/plain": [
       "                             CustID                                  ItemDesc  \\\n",
       "0  JFRGRFjeEJVG8RJF8R1Foj8AJJ7Et8oH         APPLE PROTECTION PLAN MACBOOK PRO   \n",
       "1  JFRGRFjeEJVG8RJF8R1Foj8AJJ7Et8oH  MacBook Pro 16 2.6GH i7 9G 16GB 512GB SG   \n",
       "2  V1AG7tA7E1tMVjt7tVH7JARR11AVotet            Samsung Galaxy A70 S 6GB White   \n",
       "4  tAEVH8jEG1Eoe1GE1JEojJetVtMGFjto                         DELL New bag pack   \n",
       "5  JRVjoAHoE8R1MJ7RRjJHFEHVVo1EtF1A          Skullcandy Ephone W/Mic Jib Blue   \n",
       "\n",
       "     MerchClassDescription  MerchGroupDescription  SaleValue  OrderedQuantity  \\\n",
       "0         Mobile Computing  Computers Peripherals   25398.00                1   \n",
       "1         Mobile Computing  Computers Peripherals  193703.10                1   \n",
       "2  Smart Phones (OS Based)          Communication   26518.98                1   \n",
       "4         Mobile Computing  Computers Peripherals    1120.98                1   \n",
       "5     Earphones/Headphones          Entertainment     916.98                1   \n",
       "\n",
       "    OrderDate ReturnFlag SalesChannelCode Ecom_BnM_Indicator  StoreID  \\\n",
       "0  2019-01-01          U               RS                B&M       83   \n",
       "1  2019-01-01          U               RS                B&M       83   \n",
       "2  2019-01-01          U               RS                B&M       79   \n",
       "4  2019-01-01          U               RS                B&M        8   \n",
       "5  2019-01-01          U               RS                B&M        9   \n",
       "\n",
       "  StoreCode  StoreCity   StoreState StorePincode  \n",
       "0      A129       Pune  Maharashtra       411014  \n",
       "1      A129       Pune  Maharashtra       411014  \n",
       "2      A122  Ghaziabad    Delhi NCR       201001  \n",
       "4      A010      Surat      Gujarat       395007  \n",
       "5      A011       Pune  Maharashtra       411007  "
      ]
     },
     "execution_count": 7,
     "metadata": {},
     "output_type": "execute_result"
    }
   ],
   "source": [
    "df_transaction.head()"
   ]
  },
  {
   "cell_type": "code",
   "execution_count": 8,
   "id": "7ec1a5fa",
   "metadata": {},
   "outputs": [
    {
     "data": {
      "text/plain": [
       "40233"
      ]
     },
     "execution_count": 8,
     "metadata": {},
     "output_type": "execute_result"
    }
   ],
   "source": [
    "df_transaction['ItemDesc'].nunique()"
   ]
  },
  {
   "cell_type": "code",
   "execution_count": 9,
   "id": "0d770fcf",
   "metadata": {},
   "outputs": [
    {
     "data": {
      "text/plain": [
       "array(['Mobile Computing', 'Smart Phones (OS Based)',\n",
       "       'Earphones/Headphones', 'Portable BT Speakers/MP3 Players',\n",
       "       'Gaming Laptops', 'Input Devices', 'Home Appliances', 'Cookware',\n",
       "       'Health & Personal Care', 'Washing Machines', 'Air Purifier',\n",
       "       'Phones Fixed', 'Installation Charges', 'Refrigerators',\n",
       "       'Air Conditioners', 'Phones Mobile Accessories', 'Computer Bags',\n",
       "       'Storage Media', 'Microwaves', 'Croma Bags Plastic & Paper',\n",
       "       'PC Accessories', 'Lifestyle & Wearables', 'Dishwashers',\n",
       "       'Other Charges', 'TV LCD', 'Phones Mobile', 'DVD/VCD/Content',\n",
       "       'Consumables', 'Tablets & Detachables', 'Software',\n",
       "       'GEEK Services', 'Kochar Service', 'Kitchen Appliances',\n",
       "       'Water Purifiers', 'Speakers', 'DSLR Cameras',\n",
       "       'Printers & Office Solutions', 'Gift Card', 'Free Gifts',\n",
       "       'Imaging Accessories', 'Travel Accessories', 'Networking',\n",
       "       'Digital Cameras', 'Desktops', 'Audio Systems',\n",
       "       'Personal Assistant Speaker', 'Brand Free Mobiles', 'Projectors',\n",
       "       'Fans', 'Ovens & Cookers', 'Gaming Consoles and Accessories',\n",
       "       'Power', 'Onsite Service', 'Entertainment Accessories',\n",
       "       'Cooling & Heating Appliances', 'Tools', 'MP3 Accessories',\n",
       "       'Home Theatre', 'Mounts & Stands', 'Dryers', 'E-Readers',\n",
       "       'TV Services', 'Connected Homes & Housewares', 'Monitors', 'Toys',\n",
       "       'Unknown', 'Phones Mobile Providers', 'Security', 'Simcard',\n",
       "       'Calculators', 'Dummies', 'Refurbished Phones', 'Solar Appliances',\n",
       "       'ECharge', 'Computer Consignments', 'Musical Instruments',\n",
       "       'Pet Care', 'ZIP Air Conditioners', 'ZIP Washing Machines'],\n",
       "      dtype=object)"
      ]
     },
     "execution_count": 9,
     "metadata": {},
     "output_type": "execute_result"
    }
   ],
   "source": [
    "df_transaction['MerchClassDescription'].unique()"
   ]
  },
  {
   "cell_type": "code",
   "execution_count": 10,
   "id": "f7d8e5a0",
   "metadata": {},
   "outputs": [],
   "source": [
    "# min max of sale value\n",
    "# order qty"
   ]
  },
  {
   "cell_type": "code",
   "execution_count": 11,
   "id": "c92cd88a",
   "metadata": {},
   "outputs": [],
   "source": [
    "#df_transaction['SaleValue'].min()\n",
    "#df_transaction['SaleValue'].max()\n",
    "# 0 - 680000 Value, 680000 - 1360000 Mainstream, 1360000 - 2040000 Premium\n",
    "# in general\n",
    "# need to calculate for each segment, price per product"
   ]
  },
  {
   "cell_type": "code",
   "execution_count": 12,
   "id": "eba4c452",
   "metadata": {},
   "outputs": [],
   "source": [
    "#price_per_product = df_transaction['SaleValue']/df_transaction['OrderedQuantity']"
   ]
  },
  {
   "cell_type": "code",
   "execution_count": 13,
   "id": "b1b53247",
   "metadata": {},
   "outputs": [],
   "source": [
    "# first create groups for categories: TVs, Laptops and Mobile Phones\n",
    "# divide the group into 3 segemnts as per price/qty ratio , value, mainstream, premium\n",
    "# for all 3 segments - calculate sales volume and revenue for each category"
   ]
  },
  {
   "cell_type": "code",
   "execution_count": 14,
   "id": "bf4f567a",
   "metadata": {},
   "outputs": [],
   "source": [
    "# TVs\n",
    "# TV LCD\n",
    "\n",
    "# Laptops\n",
    "# Mobile Computing, Gaming Laptops, Input Devices, Storage Media, PC Accessories, Desktops, Gaming Consoles and Accessories\n",
    "## Mobile Computing\n",
    "\n",
    "#Mobile Phones\n",
    "## Smart Phones (OS Based), Phones Fixed, Phones Mobile Accessories, Phones Mobile, Tablets & Detachables,\n",
    "## Brand Free Mobiles, Phones Mobile Providers, Refurbished Phones\n",
    "\n",
    "# notes\n",
    "# EW- extended warranty"
   ]
  },
  {
   "cell_type": "code",
   "execution_count": null,
   "id": "e9140c7f",
   "metadata": {},
   "outputs": [],
   "source": [
    "# TVs\n",
    "\n",
    "# Laptops\n",
    "#Gaming Laptops,Mobile Computing\n",
    "\n",
    "#Mobile Phones\n",
    "## Smart Phones (OS Based)\n",
    "\n",
    "# notes\n",
    "# EW- extended warranty"
   ]
  },
  {
   "cell_type": "markdown",
   "id": "5d4284ea",
   "metadata": {},
   "source": [
    "## Laptops"
   ]
  },
  {
   "cell_type": "markdown",
   "id": "de674843",
   "metadata": {},
   "source": [
    "### Mobile Computing"
   ]
  },
  {
   "cell_type": "code",
   "execution_count": 15,
   "id": "2e69b0ab",
   "metadata": {},
   "outputs": [
    {
     "data": {
      "text/plain": [
       "0                 APPLE PROTECTION PLAN MACBOOK PRO\n",
       "1          MacBook Pro 16 2.6GH i7 9G 16GB 512GB SG\n",
       "4                                 DELL New bag pack\n",
       "8                       2Yr OnGo EW-Laptop 70K-1LAC\n",
       "98                     MerchClass: Mobile Computing\n",
       "                             ...                   \n",
       "1625308                           DELL New bag pack\n",
       "1625309       Acer 15 Aspire 3 11Gi3 8GBN 512SSD+OF\n",
       "1625334     Apple MacBook Air MLY33 M2 256GB MIDNGT\n",
       "1625349         Lenovo Slim Everyday Backpack Black\n",
       "1625352      Lenovo 15 ECIN 10Gi3 8GBN 1TB HDD +OFF\n",
       "Name: ItemDesc, Length: 93736, dtype: object"
      ]
     },
     "execution_count": 15,
     "metadata": {},
     "output_type": "execute_result"
    }
   ],
   "source": [
    "df_transaction['ItemDesc'][df_transaction['MerchClassDescription']=='Mobile Computing']"
   ]
  },
  {
   "cell_type": "code",
   "execution_count": 16,
   "id": "eb1b197e",
   "metadata": {},
   "outputs": [],
   "source": [
    "# remove unwanted data\n",
    "tv = df_transaction['ItemDesc'][df_transaction['MerchClassDescription']=='Mobile Computing']"
   ]
  },
  {
   "cell_type": "code",
   "execution_count": 17,
   "id": "e5f9d139",
   "metadata": {},
   "outputs": [
    {
     "data": {
      "text/plain": [
       "(93736,)"
      ]
     },
     "execution_count": 17,
     "metadata": {},
     "output_type": "execute_result"
    }
   ],
   "source": [
    "tv.shape"
   ]
  },
  {
   "cell_type": "code",
   "execution_count": 18,
   "id": "b22d6a36",
   "metadata": {},
   "outputs": [],
   "source": [
    "# remove EW, but dont remove NEW\n",
    "filter1 = tv.str.contains('EW')\n",
    "idx1 = tv[filter1==True].index\n",
    "idxf1 = tv[filter1==True][tv.str.contains('NEW')].index\n",
    "idxd = set(list(idx1)).difference(set(list(idxf1))) # contains EW but does not contain NEW"
   ]
  },
  {
   "cell_type": "code",
   "execution_count": 19,
   "id": "8a86c445",
   "metadata": {},
   "outputs": [],
   "source": [
    "# remove idxd\n",
    "tv.drop(index=idxd,inplace=True)"
   ]
  },
  {
   "cell_type": "code",
   "execution_count": 20,
   "id": "68098581",
   "metadata": {},
   "outputs": [
    {
     "data": {
      "text/plain": [
       "(87786,)"
      ]
     },
     "execution_count": 20,
     "metadata": {},
     "output_type": "execute_result"
    }
   ],
   "source": [
    "tv.shape"
   ]
  },
  {
   "cell_type": "code",
   "execution_count": 21,
   "id": "f4722172",
   "metadata": {},
   "outputs": [
    {
     "data": {
      "text/plain": [
       "(77548,)"
      ]
     },
     "execution_count": 21,
     "metadata": {},
     "output_type": "execute_result"
    }
   ],
   "source": [
    "# remove bag\n",
    "filter2 = tv.str.lower().str.contains('bag')\n",
    "idx2 = filter2[filter2==True].index\n",
    "tv.drop(index=idx2,inplace=True)\n",
    "tv.shape"
   ]
  },
  {
   "cell_type": "code",
   "execution_count": 22,
   "id": "be27b8fb",
   "metadata": {},
   "outputs": [
    {
     "data": {
      "text/plain": [
       "(69726,)"
      ]
     },
     "execution_count": 22,
     "metadata": {},
     "output_type": "execute_result"
    }
   ],
   "source": [
    "# remove backpack\n",
    "filter3 = tv.str.lower().str.contains('backpack')\n",
    "idx3 = filter3[filter3==True].index\n",
    "tv.drop(index=idx3,inplace=True)\n",
    "tv.shape"
   ]
  },
  {
   "cell_type": "code",
   "execution_count": 23,
   "id": "a0bc92c5",
   "metadata": {},
   "outputs": [
    {
     "data": {
      "text/plain": [
       "(69669,)"
      ]
     },
     "execution_count": 23,
     "metadata": {},
     "output_type": "execute_result"
    }
   ],
   "source": [
    "# remove backpck\n",
    "filter3 = tv.str.lower().str.contains('backpck')\n",
    "idx3 = filter3[filter3==True].index\n",
    "tv.drop(index=idx3,inplace=True)\n",
    "tv.shape"
   ]
  },
  {
   "cell_type": "code",
   "execution_count": 24,
   "id": "04276dc9",
   "metadata": {},
   "outputs": [
    {
     "data": {
      "text/plain": [
       "(65288,)"
      ]
     },
     "execution_count": 24,
     "metadata": {},
     "output_type": "execute_result"
    }
   ],
   "source": [
    "# remove protection plans\n",
    "filter4 = tv.str.lower().str.contains('protection')\n",
    "idx4 = filter4[filter4==True].index\n",
    "tv.drop(index=idx4,inplace=True)\n",
    "tv.shape"
   ]
  },
  {
   "cell_type": "code",
   "execution_count": 25,
   "id": "91de403c",
   "metadata": {},
   "outputs": [
    {
     "data": {
      "text/plain": [
       "(61752,)"
      ]
     },
     "execution_count": 25,
     "metadata": {},
     "output_type": "execute_result"
    }
   ],
   "source": [
    "# remove MerchClass: Mobile Computing\n",
    "filter5 = tv.str.contains('MerchClass: Mobile Computing')\n",
    "idx5 = filter5[filter5==True].index\n",
    "tv = tv[~filter5]\n",
    "tv.shape"
   ]
  },
  {
   "cell_type": "code",
   "execution_count": 26,
   "id": "162dee61",
   "metadata": {},
   "outputs": [
    {
     "data": {
      "text/plain": [
       "(50966,)"
      ]
     },
     "execution_count": 26,
     "metadata": {},
     "output_type": "execute_result"
    }
   ],
   "source": [
    "# remove carrycase\n",
    "filter6 = tv.str.lower().str.contains('carrycase')\n",
    "idx6 = filter6[filter6==True].index\n",
    "tv.drop(index=idx6,inplace=True)\n",
    "tv.shape"
   ]
  },
  {
   "cell_type": "code",
   "execution_count": 27,
   "id": "563120f1",
   "metadata": {},
   "outputs": [
    {
     "data": {
      "text/plain": [
       "(50222,)"
      ]
     },
     "execution_count": 27,
     "metadata": {},
     "output_type": "execute_result"
    }
   ],
   "source": [
    "# remove Damage\n",
    "filter7 = tv.str.lower().str.contains('damage')\n",
    "idx7 = filter7[filter7==True].index\n",
    "tv.drop(index=idx7,inplace=True)\n",
    "tv.shape"
   ]
  },
  {
   "cell_type": "code",
   "execution_count": 28,
   "id": "b1980a2f",
   "metadata": {},
   "outputs": [
    {
     "data": {
      "text/plain": [
       "(50091,)"
      ]
     },
     "execution_count": 28,
     "metadata": {},
     "output_type": "execute_result"
    }
   ],
   "source": [
    "# remove ADP\n",
    "filter8 = tv.str.lower().str.contains('adp')\n",
    "idx8 = filter8[filter8==True].index\n",
    "tv.drop(index=idx8,inplace=True)\n",
    "tv.shape"
   ]
  },
  {
   "cell_type": "code",
   "execution_count": 29,
   "id": "d5f8792b",
   "metadata": {},
   "outputs": [
    {
     "data": {
      "text/plain": [
       "(49756,)"
      ]
     },
     "execution_count": 29,
     "metadata": {},
     "output_type": "execute_result"
    }
   ],
   "source": [
    "# remove warranty\n",
    "filter11 = tv.str.lower().str.contains('warranty')\n",
    "idx11 = filter11[filter11==True].index\n",
    "tv.drop(index=idx11,inplace=True)\n",
    "tv.shape"
   ]
  },
  {
   "cell_type": "code",
   "execution_count": 30,
   "id": "bfe623e2",
   "metadata": {},
   "outputs": [
    {
     "data": {
      "text/plain": [
       "(49686,)"
      ]
     },
     "execution_count": 30,
     "metadata": {},
     "output_type": "execute_result"
    }
   ],
   "source": [
    "# remove sdp\n",
    "filter12 = tv.str.lower().str.contains('sdp')\n",
    "idx12 = filter12[filter12==True].index\n",
    "tv.drop(index=idx12,inplace=True)\n",
    "tv.shape"
   ]
  },
  {
   "cell_type": "code",
   "execution_count": 31,
   "id": "1e99dcd7",
   "metadata": {},
   "outputs": [
    {
     "data": {
      "text/plain": [
       "(49684,)"
      ]
     },
     "execution_count": 31,
     "metadata": {},
     "output_type": "execute_result"
    }
   ],
   "source": [
    "# remove DO NOT USE\n",
    "filter13 = tv.str.lower().str.contains('do not use')\n",
    "idx13 = filter13[filter13==True].index\n",
    "tv.drop(index=idx13,inplace=True)\n",
    "tv.shape"
   ]
  },
  {
   "cell_type": "code",
   "execution_count": 32,
   "id": "39f74e45",
   "metadata": {},
   "outputs": [
    {
     "data": {
      "text/plain": [
       "(49242,)"
      ]
     },
     "execution_count": 32,
     "metadata": {},
     "output_type": "execute_result"
    }
   ],
   "source": [
    "# remove AC+\n",
    "filter14 = tv.str.contains('AC[+]',regex=True)\n",
    "idx14 = filter14[filter14==True].index\n",
    "tv.drop(index=idx14,inplace=True)\n",
    "tv.shape"
   ]
  },
  {
   "cell_type": "code",
   "execution_count": 33,
   "id": "c2eb5927",
   "metadata": {},
   "outputs": [
    {
     "data": {
      "text/plain": [
       "(49180,)"
      ]
     },
     "execution_count": 33,
     "metadata": {},
     "output_type": "execute_result"
    }
   ],
   "source": [
    "# remove AppleCare+, \n",
    "filter15 = tv.str.contains('AppleCare[+]',regex=True)\n",
    "idx15 = filter15[filter15==True].index\n",
    "tv.drop(index=idx15,inplace=True)\n",
    "tv.shape"
   ]
  },
  {
   "cell_type": "code",
   "execution_count": 34,
   "id": "5ac92be1",
   "metadata": {},
   "outputs": [],
   "source": [
    "# remove APPLE PROTECT+ WITH ACS, APP PRO+ WITH ACS, APP PROT+, "
   ]
  },
  {
   "cell_type": "code",
   "execution_count": 46,
   "id": "760958b6",
   "metadata": {},
   "outputs": [
    {
     "data": {
      "text/plain": [
       "(49118,)"
      ]
     },
     "execution_count": 46,
     "metadata": {},
     "output_type": "execute_result"
    }
   ],
   "source": [
    "# remove AppleCare, \n",
    "filter16 = tv.str.contains('AppleCare',regex=True)\n",
    "idx16 = filter16[filter16==True].index\n",
    "tv.drop(index=idx16,inplace=True)\n",
    "tv.shape"
   ]
  },
  {
   "cell_type": "code",
   "execution_count": 49,
   "id": "e3e9f8c6",
   "metadata": {},
   "outputs": [
    {
     "data": {
      "text/plain": [
       "(49092,)"
      ]
     },
     "execution_count": 49,
     "metadata": {},
     "output_type": "execute_result"
    }
   ],
   "source": [
    "# remove APPLE PROTECT \n",
    "filter17 = tv.str.contains('APPLE PROTECT',regex=True)\n",
    "idx17 = filter17[filter17==True].index\n",
    "tv.drop(index=idx17,inplace=True)\n",
    "tv.shape"
   ]
  },
  {
   "cell_type": "code",
   "execution_count": 52,
   "id": "50028dbe",
   "metadata": {},
   "outputs": [
    {
     "data": {
      "text/plain": [
       "(49078,)"
      ]
     },
     "execution_count": 52,
     "metadata": {},
     "output_type": "execute_result"
    }
   ],
   "source": [
    "# remove APP PRO\n",
    "filter18 = tv.str.contains('APP PRO',regex=True)\n",
    "idx18 = filter18[filter18==True].index\n",
    "tv.drop(index=idx18,inplace=True)\n",
    "tv.shape"
   ]
  },
  {
   "cell_type": "markdown",
   "id": "7c83e701",
   "metadata": {},
   "source": [
    "### TV LCD"
   ]
  },
  {
   "cell_type": "code",
   "execution_count": 54,
   "id": "0275a0f0",
   "metadata": {},
   "outputs": [],
   "source": [
    "lcd = df_transaction['ItemDesc'][df_transaction['MerchClassDescription']=='TV LCD']"
   ]
  },
  {
   "cell_type": "code",
   "execution_count": 55,
   "id": "a066fea7",
   "metadata": {},
   "outputs": [
    {
     "data": {
      "text/plain": [
       "(90848,)"
      ]
     },
     "execution_count": 55,
     "metadata": {},
     "output_type": "execute_result"
    }
   ],
   "source": [
    "lcd.shape"
   ]
  },
  {
   "cell_type": "code",
   "execution_count": 56,
   "id": "0119ab7c",
   "metadata": {},
   "outputs": [
    {
     "data": {
      "text/plain": [
       "(70211,)"
      ]
     },
     "execution_count": 56,
     "metadata": {},
     "output_type": "execute_result"
    }
   ],
   "source": [
    "# remove EW\n",
    "filter1 = lcd.str.contains(' EW', regex=True)\n",
    "idx1 = filter1[filter1==True].index\n",
    "lcd.drop(index=idx1,inplace=True)\n",
    "lcd.shape"
   ]
  },
  {
   "cell_type": "code",
   "execution_count": 57,
   "id": "d832f942",
   "metadata": {},
   "outputs": [
    {
     "data": {
      "text/plain": [
       "(67719,)"
      ]
     },
     "execution_count": 57,
     "metadata": {},
     "output_type": "execute_result"
    }
   ],
   "source": [
    "# remove component care\n",
    "filter2 = lcd.str.contains('Component Care', regex=True)\n",
    "idx2 = filter2[filter2==True].index\n",
    "lcd.drop(index=idx2,inplace=True)\n",
    "lcd.shape"
   ]
  },
  {
   "cell_type": "code",
   "execution_count": 58,
   "id": "57ed773b",
   "metadata": {},
   "outputs": [
    {
     "data": {
      "text/plain": [
       "(66444,)"
      ]
     },
     "execution_count": 58,
     "metadata": {},
     "output_type": "execute_result"
    }
   ],
   "source": [
    "# remove Screen Protection\n",
    "filter3 = lcd.str.contains('Screen Protection', regex=True)\n",
    "idx3 = filter3[filter3==True].index\n",
    "lcd.drop(index=idx3,inplace=True)\n",
    "lcd.shape"
   ]
  },
  {
   "cell_type": "code",
   "execution_count": 59,
   "id": "58ebc874",
   "metadata": {},
   "outputs": [
    {
     "data": {
      "text/plain": [
       "(66164,)"
      ]
     },
     "execution_count": 59,
     "metadata": {},
     "output_type": "execute_result"
    }
   ],
   "source": [
    "# remove Extended Warranty\n",
    "filter4 = lcd.str.contains('Extended Warranty', regex=True)\n",
    "idx4 = filter4[filter4==True].index\n",
    "lcd.drop(index=idx4,inplace=True)\n",
    "lcd.shape"
   ]
  },
  {
   "cell_type": "code",
   "execution_count": 60,
   "id": "9b552e04",
   "metadata": {},
   "outputs": [
    {
     "data": {
      "text/plain": [
       "(65630,)"
      ]
     },
     "execution_count": 60,
     "metadata": {},
     "output_type": "execute_result"
    }
   ],
   "source": [
    "# remove stand\n",
    "filter5 = lcd.str.contains('STAND',regex=True)\n",
    "idx5 = filter5[filter5==True].index\n",
    "lcd.drop(index=idx5,inplace=True)\n",
    "lcd.shape"
   ]
  },
  {
   "cell_type": "code",
   "execution_count": 61,
   "id": "af78b8f3",
   "metadata": {},
   "outputs": [],
   "source": [
    "lcd.value_counts().to_csv('lcd.csv')"
   ]
  },
  {
   "cell_type": "code",
   "execution_count": 62,
   "id": "e068487f",
   "metadata": {},
   "outputs": [],
   "source": [
    "lcd_index = lcd.index\n",
    "tv_index= tv.index"
   ]
  },
  {
   "cell_type": "code",
   "execution_count": 67,
   "id": "4d13c10d",
   "metadata": {},
   "outputs": [
    {
     "name": "stderr",
     "output_type": "stream",
     "text": [
      "C:\\Users\\Saurabh Mulgaonkar\\AppData\\Local\\Temp\\ipykernel_6612\\606856899.py:2: UserWarning: Boolean Series key will be reindexed to match DataFrame index.\n",
      "  below_1000_idx = df_transaction.loc[tv_index][df_transaction['SaleValue']<1000].index\n"
     ]
    }
   ],
   "source": [
    "# remove values below 1000\n",
    "below_1000_idx = df_transaction.loc[tv_index][df_transaction['SaleValue']<1000].index"
   ]
  },
  {
   "cell_type": "code",
   "execution_count": 70,
   "id": "e0f4624d",
   "metadata": {},
   "outputs": [],
   "source": [
    "tv_index_final = set(tv_index).difference(below_1000_idx)"
   ]
  },
  {
   "cell_type": "code",
   "execution_count": 74,
   "id": "e62cf3e1",
   "metadata": {},
   "outputs": [
    {
     "name": "stderr",
     "output_type": "stream",
     "text": [
      "C:\\Users\\Saurabh Mulgaonkar\\AppData\\Local\\Temp\\ipykernel_6612\\450365356.py:2: UserWarning: Boolean Series key will be reindexed to match DataFrame index.\n",
      "  below_1000_idx = df_transaction.loc[lcd_index][df_transaction['SaleValue']<1000].index\n"
     ]
    }
   ],
   "source": [
    "# remove values below 1000\n",
    "below_1000_idx = df_transaction.loc[lcd_index][df_transaction['SaleValue']<1000].index"
   ]
  },
  {
   "cell_type": "code",
   "execution_count": 75,
   "id": "c1a954c8",
   "metadata": {},
   "outputs": [],
   "source": [
    "lcd_index_final = set(lcd_index).difference(below_1000_idx)"
   ]
  },
  {
   "cell_type": "markdown",
   "id": "9c532bcb",
   "metadata": {},
   "source": [
    "### Laptops:"
   ]
  },
  {
   "cell_type": "code",
   "execution_count": 78,
   "id": "1171e99f",
   "metadata": {},
   "outputs": [],
   "source": [
    "# Input Devices is not part of Laptops\n",
    "df_transaction['ItemDesc'][df_transaction['MerchClassDescription']=='Input Devices'].value_counts().to_csv('input_dev.csv')"
   ]
  },
  {
   "cell_type": "code",
   "execution_count": 79,
   "id": "42baa59b",
   "metadata": {},
   "outputs": [],
   "source": [
    "# Storage Media is not part of Laptops\n",
    "df_transaction['ItemDesc'][df_transaction['MerchClassDescription']=='Storage Media'].value_counts().to_csv('stor_med.csv')"
   ]
  },
  {
   "cell_type": "code",
   "execution_count": 80,
   "id": "05e41fee",
   "metadata": {},
   "outputs": [],
   "source": [
    "# PC Accessories is not part of Laptops\n",
    "df_transaction['ItemDesc'][df_transaction['MerchClassDescription']=='PC Accessories'].value_counts().to_csv('pc_acces.csv')"
   ]
  },
  {
   "cell_type": "code",
   "execution_count": 81,
   "id": "26c671a8",
   "metadata": {},
   "outputs": [],
   "source": [
    "# Desktops is not part of Laptops\n",
    "df_transaction['ItemDesc'][df_transaction['MerchClassDescription']=='Desktops'].value_counts().to_csv('desk.csv')"
   ]
  },
  {
   "cell_type": "code",
   "execution_count": 83,
   "id": "1e3a5915",
   "metadata": {},
   "outputs": [],
   "source": [
    "# Gaming consoles are not part of Laptops\n",
    "df_transaction['ItemDesc'][df_transaction['MerchClassDescription']=='Gaming Consoles and Accessories'].value_counts().to_csv('gc.csv')"
   ]
  },
  {
   "cell_type": "code",
   "execution_count": 85,
   "id": "0f775740",
   "metadata": {},
   "outputs": [],
   "source": [
    "# Gaming Laptops\n",
    "gl = df_transaction['ItemDesc'][df_transaction['MerchClassDescription']=='Gaming Laptops']#.to_csv('gl.csv')"
   ]
  },
  {
   "cell_type": "code",
   "execution_count": 98,
   "id": "0f96aa9c",
   "metadata": {},
   "outputs": [],
   "source": [
    "gl.value_counts().to_csv('gl.csv')"
   ]
  },
  {
   "cell_type": "code",
   "execution_count": 89,
   "id": "f3d955aa",
   "metadata": {},
   "outputs": [],
   "source": [
    "def clean_ser(series, word):\n",
    "    \"\"\"\n",
    "    This function removes the rows with the word that you provide\n",
    "    in the argument\n",
    "    \n",
    "    \"\"\"\n",
    "    filter1 = series.str.contains(word,regex=True)\n",
    "    idx = filter1[filter1==True].index\n",
    "    series.loc[idx].value_counts().to_csv('check.csv')\n",
    "    series.drop(index=idx,inplace=True)\n",
    "    print(series.shape)\n",
    "    return series"
   ]
  },
  {
   "cell_type": "code",
   "execution_count": 90,
   "id": "9cbcecf1",
   "metadata": {},
   "outputs": [
    {
     "name": "stdout",
     "output_type": "stream",
     "text": [
      "(10603,)\n"
     ]
    }
   ],
   "source": [
    "gl = clean_ser(gl,' EW')"
   ]
  },
  {
   "cell_type": "code",
   "execution_count": 92,
   "id": "a9bd1ea9",
   "metadata": {},
   "outputs": [
    {
     "name": "stdout",
     "output_type": "stream",
     "text": [
      "(9980,)\n"
     ]
    }
   ],
   "source": [
    "gl = clean_ser(gl,'Backpack')"
   ]
  },
  {
   "cell_type": "code",
   "execution_count": 93,
   "id": "0721dae5",
   "metadata": {},
   "outputs": [
    {
     "name": "stdout",
     "output_type": "stream",
     "text": [
      "(9473,)\n"
     ]
    }
   ],
   "source": [
    "gl = clean_ser(gl,'Protection')"
   ]
  },
  {
   "cell_type": "code",
   "execution_count": 96,
   "id": "9032c05b",
   "metadata": {},
   "outputs": [
    {
     "name": "stdout",
     "output_type": "stream",
     "text": [
      "(9368,)\n"
     ]
    }
   ],
   "source": [
    "gl = clean_ser(gl,'Ongo')"
   ]
  },
  {
   "cell_type": "code",
   "execution_count": 97,
   "id": "b627484c",
   "metadata": {},
   "outputs": [
    {
     "name": "stdout",
     "output_type": "stream",
     "text": [
      "(9278,)\n"
     ]
    }
   ],
   "source": [
    "gl = clean_ser(gl,'Damage')"
   ]
  },
  {
   "cell_type": "code",
   "execution_count": 99,
   "id": "4d5443ef",
   "metadata": {},
   "outputs": [
    {
     "name": "stdout",
     "output_type": "stream",
     "text": [
      "(9255,)\n"
     ]
    }
   ],
   "source": [
    "gl = clean_ser(gl,'Carrycase')"
   ]
  },
  {
   "cell_type": "code",
   "execution_count": 103,
   "id": "44a0738e",
   "metadata": {},
   "outputs": [
    {
     "name": "stdout",
     "output_type": "stream",
     "text": [
      "(9245,)\n"
     ]
    }
   ],
   "source": [
    "gl = clean_ser(gl,'ADP')"
   ]
  },
  {
   "cell_type": "code",
   "execution_count": 104,
   "id": "2a255879",
   "metadata": {},
   "outputs": [],
   "source": [
    "gl_index = gl.index"
   ]
  },
  {
   "cell_type": "code",
   "execution_count": 106,
   "id": "16abbb5d",
   "metadata": {},
   "outputs": [],
   "source": [
    "#df_transaction.loc[gl_index].sort_values(by='SaleValue')\n",
    "# data has been cleaned"
   ]
  },
  {
   "cell_type": "code",
   "execution_count": 107,
   "id": "370eb621",
   "metadata": {},
   "outputs": [
    {
     "name": "stderr",
     "output_type": "stream",
     "text": [
      "C:\\Users\\Saurabh Mulgaonkar\\AppData\\Local\\Temp\\ipykernel_6612\\3153782903.py:1: FutureWarning: Passing a set as an indexer is deprecated and will raise in a future version. Use a list instead.\n",
      "  TV = df_transaction.loc[lcd_index_final]\n"
     ]
    }
   ],
   "source": [
    "TV = df_transaction.loc[lcd_index_final]"
   ]
  },
  {
   "cell_type": "code",
   "execution_count": 297,
   "id": "e760e0e9",
   "metadata": {},
   "outputs": [],
   "source": [
    "TV = TV.sort_values('SaleValue').reset_index(drop=True)"
   ]
  },
  {
   "cell_type": "code",
   "execution_count": 306,
   "id": "e8ddbf7b",
   "metadata": {},
   "outputs": [],
   "source": [
    "TV.to_csv('TV.csv',index=False)"
   ]
  },
  {
   "cell_type": "code",
   "execution_count": 116,
   "id": "d78b2775",
   "metadata": {},
   "outputs": [],
   "source": [
    "#tv_index_final\n",
    "laptop_index = set(tv_index_final).union(set(gl_index))"
   ]
  },
  {
   "cell_type": "code",
   "execution_count": 117,
   "id": "fbeec04f",
   "metadata": {},
   "outputs": [
    {
     "name": "stderr",
     "output_type": "stream",
     "text": [
      "C:\\Users\\Saurabh Mulgaonkar\\AppData\\Local\\Temp\\ipykernel_6612\\2903867984.py:1: FutureWarning: Passing a set as an indexer is deprecated and will raise in a future version. Use a list instead.\n",
      "  Laptop = df_transaction.loc[laptop_index]\n"
     ]
    }
   ],
   "source": [
    "Laptop = df_transaction.loc[laptop_index]"
   ]
  },
  {
   "cell_type": "code",
   "execution_count": 298,
   "id": "3eb2901c",
   "metadata": {},
   "outputs": [],
   "source": [
    "Laptop = Laptop.sort_values('SaleValue').reset_index(drop=True)"
   ]
  },
  {
   "cell_type": "code",
   "execution_count": 305,
   "id": "9a18b04f",
   "metadata": {},
   "outputs": [],
   "source": [
    "Laptop.to_csv('Laptop.csv',index=False)"
   ]
  },
  {
   "cell_type": "markdown",
   "id": "9a26df16",
   "metadata": {},
   "source": [
    "### Mobiles"
   ]
  },
  {
   "cell_type": "code",
   "execution_count": 121,
   "id": "1c2ed4f8",
   "metadata": {},
   "outputs": [],
   "source": [
    "# fixed phones are not mobile phones\n",
    "df_transaction['ItemDesc'][df_transaction['MerchClassDescription']=='Phones Fixed'].value_counts().to_csv('phones.csv')"
   ]
  },
  {
   "cell_type": "code",
   "execution_count": 122,
   "id": "edf7b765",
   "metadata": {},
   "outputs": [],
   "source": [
    "# accessories are not mobile phones\n",
    "df_transaction['ItemDesc'][df_transaction['MerchClassDescription']=='Phones Mobile Accessories'].value_counts().to_csv('pma.csv')"
   ]
  },
  {
   "cell_type": "code",
   "execution_count": 123,
   "id": "19f8c789",
   "metadata": {},
   "outputs": [],
   "source": [
    "# Phone Mobile Providers are not mobile phones\n",
    "df_transaction['ItemDesc'][df_transaction['MerchClassDescription']=='Phones Mobile Providers'].value_counts().to_csv('pmp.csv')"
   ]
  },
  {
   "cell_type": "code",
   "execution_count": 125,
   "id": "05987eb1",
   "metadata": {},
   "outputs": [],
   "source": [
    "#  Brand Free Mobiles\n",
    "brand = df_transaction['ItemDesc'][df_transaction['MerchClassDescription']=='Brand Free Mobiles']#.value_counts().to_csv('bfm.csv')"
   ]
  },
  {
   "cell_type": "code",
   "execution_count": 133,
   "id": "6504ca79",
   "metadata": {},
   "outputs": [
    {
     "name": "stderr",
     "output_type": "stream",
     "text": [
      "C:\\Users\\Saurabh Mulgaonkar\\AppData\\Local\\Temp\\ipykernel_6612\\1330183580.py:2: UserWarning: Boolean Series key will be reindexed to match DataFrame index.\n",
      "  brand = df_transaction.loc[brand.index][df_transaction['SaleValue']>1000]\n"
     ]
    }
   ],
   "source": [
    "#df_transaction.loc[brand.index].sort_values(by='SaleValue').to_csv('b1.csv')\n",
    "brand = df_transaction.loc[brand.index][df_transaction['SaleValue']>1000]"
   ]
  },
  {
   "cell_type": "code",
   "execution_count": 134,
   "id": "84024f55",
   "metadata": {},
   "outputs": [],
   "source": [
    "brand_index = brand.index"
   ]
  },
  {
   "cell_type": "code",
   "execution_count": 136,
   "id": "ac035454",
   "metadata": {},
   "outputs": [],
   "source": [
    "# Refurbished Phones\n",
    "\n",
    "rf = df_transaction['ItemDesc'][df_transaction['MerchClassDescription']=='Refurbished Phones']"
   ]
  },
  {
   "cell_type": "code",
   "execution_count": 141,
   "id": "40272036",
   "metadata": {},
   "outputs": [],
   "source": [
    "rf = df_transaction.loc[rf.index]"
   ]
  },
  {
   "cell_type": "code",
   "execution_count": 142,
   "id": "4faaf37f",
   "metadata": {},
   "outputs": [],
   "source": [
    "rf_index = rf.index"
   ]
  },
  {
   "cell_type": "code",
   "execution_count": 161,
   "id": "64d0e738",
   "metadata": {},
   "outputs": [],
   "source": [
    "# Phones Mobile\n",
    "pm = df_transaction['ItemDesc'][df_transaction['MerchClassDescription']=='Phones Mobile']"
   ]
  },
  {
   "cell_type": "code",
   "execution_count": 162,
   "id": "479f4d61",
   "metadata": {},
   "outputs": [
    {
     "name": "stdout",
     "output_type": "stream",
     "text": [
      "(2427,)\n"
     ]
    }
   ],
   "source": [
    "pm = clean_ser(pm,'EW ')"
   ]
  },
  {
   "cell_type": "code",
   "execution_count": 163,
   "id": "8754ccbe",
   "metadata": {},
   "outputs": [
    {
     "name": "stdout",
     "output_type": "stream",
     "text": [
      "(2426,)\n"
     ]
    }
   ],
   "source": [
    "pm = clean_ser(pm,'ZIP ')"
   ]
  },
  {
   "cell_type": "code",
   "execution_count": 165,
   "id": "59b66d2e",
   "metadata": {},
   "outputs": [],
   "source": [
    "pm = df_transaction.loc[pm.index]"
   ]
  },
  {
   "cell_type": "code",
   "execution_count": 167,
   "id": "2e0a7ab9",
   "metadata": {},
   "outputs": [],
   "source": [
    "pm_index = pm.index"
   ]
  },
  {
   "cell_type": "code",
   "execution_count": 168,
   "id": "78979f8b",
   "metadata": {},
   "outputs": [],
   "source": [
    "# Tablets & Detachables\n",
    "# not considering these as part of mobiles\n",
    "#td = df_transaction['ItemDesc'][df_transaction['MerchClassDescription']=='Tablets & Detachables']#.value_counts().to_csv('td.csv')"
   ]
  },
  {
   "cell_type": "code",
   "execution_count": 206,
   "id": "286f9c21",
   "metadata": {},
   "outputs": [],
   "source": [
    "def clean_ser_lower(series, word):\n",
    "    \"\"\"\n",
    "    This function removes the rows with the word that you provide\n",
    "    in the argument\n",
    "    \n",
    "    \"\"\"\n",
    "    filter1 = series.str.lower().str.contains(word,regex=True)\n",
    "    idx = filter1[filter1==True].index\n",
    "    series.loc[idx].value_counts().to_csv('check.csv')\n",
    "    series.drop(index=idx,inplace=True)\n",
    "    print(series.shape)\n",
    "    return series"
   ]
  },
  {
   "cell_type": "code",
   "execution_count": 249,
   "id": "88de948e",
   "metadata": {},
   "outputs": [],
   "source": [
    "# Smart Phones (OS Based)\n",
    "sp = df_transaction['ItemDesc'][df_transaction['MerchClassDescription']=='Smart Phones (OS Based)']#.value_counts().to_csv('sp.csv')"
   ]
  },
  {
   "cell_type": "code",
   "execution_count": 250,
   "id": "1f0176fa",
   "metadata": {},
   "outputs": [
    {
     "name": "stdout",
     "output_type": "stream",
     "text": [
      "(241174,)\n"
     ]
    }
   ],
   "source": [
    "sp = clean_ser(sp,' EW')"
   ]
  },
  {
   "cell_type": "code",
   "execution_count": 251,
   "id": "1c59540c",
   "metadata": {},
   "outputs": [
    {
     "name": "stdout",
     "output_type": "stream",
     "text": [
      "(241169,)\n"
     ]
    }
   ],
   "source": [
    "sp = clean_ser(sp,'ZIP')"
   ]
  },
  {
   "cell_type": "code",
   "execution_count": 252,
   "id": "70e3719a",
   "metadata": {},
   "outputs": [
    {
     "name": "stdout",
     "output_type": "stream",
     "text": [
      "(241004,)\n"
     ]
    }
   ],
   "source": [
    "sp = clean_ser(sp,'AC[+]')"
   ]
  },
  {
   "cell_type": "code",
   "execution_count": 253,
   "id": "5fb48e7e",
   "metadata": {},
   "outputs": [
    {
     "name": "stdout",
     "output_type": "stream",
     "text": [
      "(240447,)\n"
     ]
    }
   ],
   "source": [
    "sp = clean_ser(sp,'AppleCare')"
   ]
  },
  {
   "cell_type": "code",
   "execution_count": 255,
   "id": "ec3dc7a0",
   "metadata": {},
   "outputs": [
    {
     "name": "stdout",
     "output_type": "stream",
     "text": [
      "(239018,)\n"
     ]
    }
   ],
   "source": [
    "sp = clean_ser(sp,'protection')"
   ]
  },
  {
   "cell_type": "code",
   "execution_count": 256,
   "id": "f568478a",
   "metadata": {},
   "outputs": [
    {
     "name": "stdout",
     "output_type": "stream",
     "text": [
      "(223620,)\n"
     ]
    }
   ],
   "source": [
    "sp = clean_ser(sp,'Protection')"
   ]
  },
  {
   "cell_type": "code",
   "execution_count": 257,
   "id": "53d0554c",
   "metadata": {},
   "outputs": [
    {
     "name": "stdout",
     "output_type": "stream",
     "text": [
      "(223620,)\n"
     ]
    }
   ],
   "source": [
    "sp = clean_ser_lower(sp,'Damage')"
   ]
  },
  {
   "cell_type": "code",
   "execution_count": 258,
   "id": "09e0ea2d",
   "metadata": {},
   "outputs": [
    {
     "name": "stdout",
     "output_type": "stream",
     "text": [
      "(223617,)\n"
     ]
    }
   ],
   "source": [
    "sp = clean_ser(sp,'ADP')"
   ]
  },
  {
   "cell_type": "code",
   "execution_count": 259,
   "id": "d0b54e6a",
   "metadata": {},
   "outputs": [
    {
     "name": "stdout",
     "output_type": "stream",
     "text": [
      "(223614,)\n"
     ]
    }
   ],
   "source": [
    "sp = clean_ser(sp,'APP PRO[+]')"
   ]
  },
  {
   "cell_type": "code",
   "execution_count": 260,
   "id": "e9e8dc0e",
   "metadata": {},
   "outputs": [
    {
     "name": "stdout",
     "output_type": "stream",
     "text": [
      "(222353,)\n"
     ]
    }
   ],
   "source": [
    "sp = clean_ser(sp,'APPLE PROTECT+')"
   ]
  },
  {
   "cell_type": "code",
   "execution_count": 261,
   "id": "c5496e9d",
   "metadata": {},
   "outputs": [
    {
     "name": "stdout",
     "output_type": "stream",
     "text": [
      "(222353,)\n"
     ]
    }
   ],
   "source": [
    "sp = clean_ser(sp,'APP PRO')"
   ]
  },
  {
   "cell_type": "code",
   "execution_count": 262,
   "id": "dfe52baa",
   "metadata": {},
   "outputs": [
    {
     "name": "stdout",
     "output_type": "stream",
     "text": [
      "(220726,)\n"
     ]
    }
   ],
   "source": [
    "sp = clean_ser(sp,'SDP')"
   ]
  },
  {
   "cell_type": "code",
   "execution_count": 264,
   "id": "5c18ca85",
   "metadata": {},
   "outputs": [
    {
     "name": "stdout",
     "output_type": "stream",
     "text": [
      "(219942,)\n"
     ]
    }
   ],
   "source": [
    "sp = clean_ser_lower(sp,'protection'.upper())"
   ]
  },
  {
   "cell_type": "code",
   "execution_count": 265,
   "id": "ab007664",
   "metadata": {},
   "outputs": [
    {
     "name": "stdout",
     "output_type": "stream",
     "text": [
      "(218724,)\n"
     ]
    }
   ],
   "source": [
    "sp = clean_ser(sp,'ADLD')"
   ]
  },
  {
   "cell_type": "code",
   "execution_count": 266,
   "id": "0b8747c0",
   "metadata": {},
   "outputs": [
    {
     "name": "stdout",
     "output_type": "stream",
     "text": [
      "(216571,)\n"
     ]
    }
   ],
   "source": [
    "sp = clean_ser(sp,'Extended Warranty')"
   ]
  },
  {
   "cell_type": "code",
   "execution_count": 267,
   "id": "c6a632c4",
   "metadata": {},
   "outputs": [
    {
     "name": "stdout",
     "output_type": "stream",
     "text": [
      "(216513,)\n"
     ]
    }
   ],
   "source": [
    "sp = clean_ser(sp,'Extended Warranty'.upper())"
   ]
  },
  {
   "cell_type": "code",
   "execution_count": 268,
   "id": "53a44ba2",
   "metadata": {},
   "outputs": [
    {
     "name": "stdout",
     "output_type": "stream",
     "text": [
      "(216143,)\n"
     ]
    }
   ],
   "source": [
    "sp = clean_ser(sp,'Extended Wrnty')"
   ]
  },
  {
   "cell_type": "code",
   "execution_count": 275,
   "id": "dacb89d5",
   "metadata": {},
   "outputs": [
    {
     "name": "stdout",
     "output_type": "stream",
     "text": [
      "(216106,)\n",
      "(215937,)\n",
      "(215929,)\n",
      "(215927,)\n",
      "(215923,)\n",
      "(215903,)\n",
      "(215900,)\n",
      "(215855,)\n",
      "(215442,)\n",
      "(215439,)\n",
      "(215348,)\n"
     ]
    }
   ],
   "source": [
    "for word in ['OnePlus 8T Registration','Samsung Extended warranty','Assured Buyback','DO NOT USE','ScrnProtectnPlan',\\\n",
    "'The Next Galaxy - Pre reserve','AccidentalDamageProtect','Accidental Damage','ACS',\\\n",
    "             'ACCIDENTAL DAMAGE PRO PLAN','OnePlus Care']:\n",
    "    sp = clean_ser(sp, word)"
   ]
  },
  {
   "cell_type": "code",
   "execution_count": 278,
   "id": "8f0fad0a",
   "metadata": {},
   "outputs": [
    {
     "name": "stdout",
     "output_type": "stream",
     "text": [
      "(215345,)\n",
      "(215336,)\n",
      "(215319,)\n",
      "(215279,)\n",
      "(215158,)\n"
     ]
    }
   ],
   "source": [
    "for word in ['AccdntlDamageProtectnPlan','SAMSUNG NEW 2 YR COMPRHENSIVE','ONE PLUS Care','ONE PLUS#Care',\n",
    "             'SAMSUNG NEW SP']:\n",
    "    sp = clean_ser(sp, word)"
   ]
  },
  {
   "cell_type": "code",
   "execution_count": 287,
   "id": "5dd7a952",
   "metadata": {},
   "outputs": [],
   "source": [
    "sp2 = df_transaction.loc[sp.index]"
   ]
  },
  {
   "cell_type": "code",
   "execution_count": 288,
   "id": "41a33cc0",
   "metadata": {},
   "outputs": [],
   "source": [
    "sp2.sort_values('SaleValue').to_csv('sp2.csv')"
   ]
  },
  {
   "cell_type": "code",
   "execution_count": 292,
   "id": "e947bb9a",
   "metadata": {},
   "outputs": [],
   "source": [
    "sp_index = sp2[sp2['SaleValue']>100].index"
   ]
  },
  {
   "cell_type": "code",
   "execution_count": 282,
   "id": "a5dd6d18",
   "metadata": {},
   "outputs": [],
   "source": [
    "#brand_index rf_index pm_index sp_index"
   ]
  },
  {
   "cell_type": "code",
   "execution_count": 293,
   "id": "154dbe42",
   "metadata": {},
   "outputs": [],
   "source": [
    "mobile_index = set(brand_index).union(set(rf_index)).union(set(pm_index)).union(set(sp_index))"
   ]
  },
  {
   "cell_type": "code",
   "execution_count": 294,
   "id": "9bad2f92",
   "metadata": {},
   "outputs": [],
   "source": [
    "Mobile = df_transaction.loc[list(mobile_index)]"
   ]
  },
  {
   "cell_type": "code",
   "execution_count": 299,
   "id": "4040a243",
   "metadata": {},
   "outputs": [],
   "source": [
    "Mobile = Mobile.sort_values('SaleValue').reset_index(drop=True)"
   ]
  },
  {
   "cell_type": "code",
   "execution_count": 307,
   "id": "f0a28410",
   "metadata": {},
   "outputs": [],
   "source": [
    "Mobile.to_csv('Mobile.csv',index=False)"
   ]
  },
  {
   "cell_type": "code",
   "execution_count": null,
   "id": "e3ad8e2a",
   "metadata": {},
   "outputs": [],
   "source": []
  }
 ],
 "metadata": {
  "kernelspec": {
   "display_name": "Python 3 (ipykernel)",
   "language": "python",
   "name": "python3"
  },
  "language_info": {
   "codemirror_mode": {
    "name": "ipython",
    "version": 3
   },
   "file_extension": ".py",
   "mimetype": "text/x-python",
   "name": "python",
   "nbconvert_exporter": "python",
   "pygments_lexer": "ipython3",
   "version": "3.9.12"
  }
 },
 "nbformat": 4,
 "nbformat_minor": 5
}
