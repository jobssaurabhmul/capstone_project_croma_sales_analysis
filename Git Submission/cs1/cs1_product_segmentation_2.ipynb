{
 "cells": [
  {
   "cell_type": "code",
   "execution_count": 1,
   "id": "5a823db6",
   "metadata": {},
   "outputs": [],
   "source": [
    "import pandas as pd\n",
    "import numpy as np\n",
    "import re\n",
    "import seaborn as sns\n",
    "import matplotlib.pyplot as plt"
   ]
  },
  {
   "cell_type": "code",
   "execution_count": 2,
   "id": "eaf62f4b",
   "metadata": {},
   "outputs": [
    {
     "name": "stderr",
     "output_type": "stream",
     "text": [
      "C:\\Users\\Saurabh Mulgaonkar\\AppData\\Local\\Temp\\ipykernel_12612\\1950317697.py:3: DtypeWarning: Columns (14) have mixed types. Specify dtype option on import or set low_memory=False.\n",
      "  TV = pd.read_csv('TV.csv')\n"
     ]
    }
   ],
   "source": [
    "Mobiles = pd.read_csv('Mobile.csv')\n",
    "Laptops = pd.read_csv('Laptop.csv')\n",
    "TV = pd.read_csv('TV.csv')"
   ]
  },
  {
   "cell_type": "code",
   "execution_count": 3,
   "id": "53c60471",
   "metadata": {},
   "outputs": [
    {
     "data": {
      "text/html": [
       "<div>\n",
       "<style scoped>\n",
       "    .dataframe tbody tr th:only-of-type {\n",
       "        vertical-align: middle;\n",
       "    }\n",
       "\n",
       "    .dataframe tbody tr th {\n",
       "        vertical-align: top;\n",
       "    }\n",
       "\n",
       "    .dataframe thead th {\n",
       "        text-align: right;\n",
       "    }\n",
       "</style>\n",
       "<table border=\"1\" class=\"dataframe\">\n",
       "  <thead>\n",
       "    <tr style=\"text-align: right;\">\n",
       "      <th></th>\n",
       "      <th>CustID</th>\n",
       "      <th>ItemDesc</th>\n",
       "      <th>MerchClassDescription</th>\n",
       "      <th>MerchGroupDescription</th>\n",
       "      <th>SaleValue</th>\n",
       "      <th>OrderedQuantity</th>\n",
       "      <th>OrderDate</th>\n",
       "      <th>ReturnFlag</th>\n",
       "      <th>SalesChannelCode</th>\n",
       "      <th>Ecom_BnM_Indicator</th>\n",
       "      <th>StoreID</th>\n",
       "      <th>StoreCode</th>\n",
       "      <th>StoreCity</th>\n",
       "      <th>StoreState</th>\n",
       "      <th>StorePincode</th>\n",
       "    </tr>\n",
       "  </thead>\n",
       "  <tbody>\n",
       "    <tr>\n",
       "      <th>0</th>\n",
       "      <td>tjRoeH1HMGV1HeoVJ8RGRGo1GM7oEHAM</td>\n",
       "      <td>Wrong Artilce-WE2077</td>\n",
       "      <td>Smart Phones (OS Based)</td>\n",
       "      <td>Communication</td>\n",
       "      <td>122.4</td>\n",
       "      <td>1</td>\n",
       "      <td>2021-04-15</td>\n",
       "      <td>F</td>\n",
       "      <td>RS</td>\n",
       "      <td>B&amp;M</td>\n",
       "      <td>248</td>\n",
       "      <td>A241</td>\n",
       "      <td>Pune</td>\n",
       "      <td>Maharashtra</td>\n",
       "      <td>411051</td>\n",
       "    </tr>\n",
       "    <tr>\n",
       "      <th>1</th>\n",
       "      <td>tjRoeH1HMGV1HeoVJ8RGRGo1GM7oEHAM</td>\n",
       "      <td>Wrong Artilce-WE2077</td>\n",
       "      <td>Smart Phones (OS Based)</td>\n",
       "      <td>Communication</td>\n",
       "      <td>122.4</td>\n",
       "      <td>1</td>\n",
       "      <td>2021-04-15</td>\n",
       "      <td>F</td>\n",
       "      <td>RS</td>\n",
       "      <td>B&amp;M</td>\n",
       "      <td>248</td>\n",
       "      <td>A241</td>\n",
       "      <td>Pune</td>\n",
       "      <td>Maharashtra</td>\n",
       "      <td>411051</td>\n",
       "    </tr>\n",
       "    <tr>\n",
       "      <th>2</th>\n",
       "      <td>tjRoeH1HMGV1HeoVJ8RGRGo1GM7oEHAM</td>\n",
       "      <td>Wrong Artilce-WE2077</td>\n",
       "      <td>Smart Phones (OS Based)</td>\n",
       "      <td>Communication</td>\n",
       "      <td>122.4</td>\n",
       "      <td>1</td>\n",
       "      <td>2021-04-15</td>\n",
       "      <td>F</td>\n",
       "      <td>RS</td>\n",
       "      <td>B&amp;M</td>\n",
       "      <td>248</td>\n",
       "      <td>A241</td>\n",
       "      <td>Pune</td>\n",
       "      <td>Maharashtra</td>\n",
       "      <td>411051</td>\n",
       "    </tr>\n",
       "    <tr>\n",
       "      <th>3</th>\n",
       "      <td>tjRoeH1HMGV1HeoVJ8RGRGo1GM7oEHAM</td>\n",
       "      <td>Wrong Artilce-WE2077</td>\n",
       "      <td>Smart Phones (OS Based)</td>\n",
       "      <td>Communication</td>\n",
       "      <td>122.4</td>\n",
       "      <td>1</td>\n",
       "      <td>2021-04-15</td>\n",
       "      <td>U</td>\n",
       "      <td>RS</td>\n",
       "      <td>B&amp;M</td>\n",
       "      <td>248</td>\n",
       "      <td>A241</td>\n",
       "      <td>Pune</td>\n",
       "      <td>Maharashtra</td>\n",
       "      <td>411051</td>\n",
       "    </tr>\n",
       "    <tr>\n",
       "      <th>4</th>\n",
       "      <td>tjRoeH1HMGV1HeoVJ8RGRGo1GM7oEHAM</td>\n",
       "      <td>Wrong Artilce-WE2077</td>\n",
       "      <td>Smart Phones (OS Based)</td>\n",
       "      <td>Communication</td>\n",
       "      <td>122.4</td>\n",
       "      <td>1</td>\n",
       "      <td>2021-04-15</td>\n",
       "      <td>U</td>\n",
       "      <td>RS</td>\n",
       "      <td>B&amp;M</td>\n",
       "      <td>248</td>\n",
       "      <td>A241</td>\n",
       "      <td>Pune</td>\n",
       "      <td>Maharashtra</td>\n",
       "      <td>411051</td>\n",
       "    </tr>\n",
       "  </tbody>\n",
       "</table>\n",
       "</div>"
      ],
      "text/plain": [
       "                             CustID              ItemDesc  \\\n",
       "0  tjRoeH1HMGV1HeoVJ8RGRGo1GM7oEHAM  Wrong Artilce-WE2077   \n",
       "1  tjRoeH1HMGV1HeoVJ8RGRGo1GM7oEHAM  Wrong Artilce-WE2077   \n",
       "2  tjRoeH1HMGV1HeoVJ8RGRGo1GM7oEHAM  Wrong Artilce-WE2077   \n",
       "3  tjRoeH1HMGV1HeoVJ8RGRGo1GM7oEHAM  Wrong Artilce-WE2077   \n",
       "4  tjRoeH1HMGV1HeoVJ8RGRGo1GM7oEHAM  Wrong Artilce-WE2077   \n",
       "\n",
       "     MerchClassDescription MerchGroupDescription  SaleValue  OrderedQuantity  \\\n",
       "0  Smart Phones (OS Based)         Communication      122.4                1   \n",
       "1  Smart Phones (OS Based)         Communication      122.4                1   \n",
       "2  Smart Phones (OS Based)         Communication      122.4                1   \n",
       "3  Smart Phones (OS Based)         Communication      122.4                1   \n",
       "4  Smart Phones (OS Based)         Communication      122.4                1   \n",
       "\n",
       "    OrderDate ReturnFlag SalesChannelCode Ecom_BnM_Indicator  StoreID  \\\n",
       "0  2021-04-15          F               RS                B&M      248   \n",
       "1  2021-04-15          F               RS                B&M      248   \n",
       "2  2021-04-15          F               RS                B&M      248   \n",
       "3  2021-04-15          U               RS                B&M      248   \n",
       "4  2021-04-15          U               RS                B&M      248   \n",
       "\n",
       "  StoreCode StoreCity   StoreState StorePincode  \n",
       "0      A241      Pune  Maharashtra       411051  \n",
       "1      A241      Pune  Maharashtra       411051  \n",
       "2      A241      Pune  Maharashtra       411051  \n",
       "3      A241      Pune  Maharashtra       411051  \n",
       "4      A241      Pune  Maharashtra       411051  "
      ]
     },
     "execution_count": 3,
     "metadata": {},
     "output_type": "execute_result"
    }
   ],
   "source": [
    "Mobiles.head()"
   ]
  },
  {
   "cell_type": "code",
   "execution_count": 4,
   "id": "b98c6ecb",
   "metadata": {},
   "outputs": [],
   "source": [
    "# divide the group into 3 segemnts as per price/qty ratio , value, mainstream, premium\n",
    "# for all 3 segments - calculate sales volume and revenue for each category"
   ]
  },
  {
   "cell_type": "code",
   "execution_count": 5,
   "id": "d957dfe1",
   "metadata": {},
   "outputs": [],
   "source": [
    "def category(df, name):\n",
    "    '''\n",
    "    Create categories as per price value of item\n",
    "    Price value = Sale Value / Qty Ordered\n",
    "    3 categories -> value, mainstream, premium\n",
    "    '''\n",
    "    ratio = df['SaleValue']/df['OrderedQuantity']\n",
    "    parts = (ratio.max() - ratio.min())/3\n",
    "    first_part = ratio.min()\n",
    "    second_part = ratio.min() + parts\n",
    "    third_part = ratio.min() + parts + parts\n",
    "    fourth_part = ratio.min() + parts + parts + parts\n",
    "    df['Ratio'] = df['SaleValue']/df['OrderedQuantity']\n",
    "    \n",
    "    def divide_parts(val, first_part,second_part,third_part, fourth_part):\n",
    "        if val>=first_part and val<second_part:\n",
    "            return \"Value\"\n",
    "        elif val>=second_part and val<third_part:\n",
    "            return \"Mainstream\"\n",
    "        elif val>=third_part and val<=fourth_part:\n",
    "            return \"Premium\"\n",
    "        \n",
    "    df['Category'] = df['Ratio'].apply(lambda x: divide_parts(x, first_part,second_part,third_part, fourth_part))\n",
    "    df['DataFrame'] = name\n",
    "    print(first_part,second_part,third_part,fourth_part)\n",
    "    return df"
   ]
  },
  {
   "cell_type": "code",
   "execution_count": 6,
   "id": "3a80d3fc",
   "metadata": {},
   "outputs": [
    {
     "name": "stdout",
     "output_type": "stream",
     "text": [
      "1013.88 680675.92 1360337.96 2040000.0\n",
      "1013.88 112841.92 224669.96 336498.0\n",
      "122.4 84708.28 169294.16 253880.04\n"
     ]
    }
   ],
   "source": [
    "df_tv = category(TV,'TV')\n",
    "df_laptops = category(Laptops,\"Laptops\")\n",
    "df_mobiles = category(Mobiles,\"Mobiles\")"
   ]
  },
  {
   "cell_type": "code",
   "execution_count": 7,
   "id": "f78156c3",
   "metadata": {},
   "outputs": [
    {
     "data": {
      "text/plain": [
       "Value         65528\n",
       "Mainstream       33\n",
       "Premium           7\n",
       "Name: Category, dtype: int64"
      ]
     },
     "execution_count": 7,
     "metadata": {},
     "output_type": "execute_result"
    }
   ],
   "source": [
    "df_tv['Category'].value_counts()"
   ]
  },
  {
   "cell_type": "code",
   "execution_count": 8,
   "id": "4f599370",
   "metadata": {},
   "outputs": [
    {
     "data": {
      "text/plain": [
       "Value         54740\n",
       "Mainstream     3292\n",
       "Premium         288\n",
       "Name: Category, dtype: int64"
      ]
     },
     "execution_count": 8,
     "metadata": {},
     "output_type": "execute_result"
    }
   ],
   "source": [
    "df_laptops['Category'].value_counts()"
   ]
  },
  {
   "cell_type": "code",
   "execution_count": 9,
   "id": "3f055a26",
   "metadata": {
    "scrolled": true
   },
   "outputs": [
    {
     "data": {
      "text/plain": [
       "Value         203943\n",
       "Mainstream     13471\n",
       "Premium          241\n",
       "Name: Category, dtype: int64"
      ]
     },
     "execution_count": 9,
     "metadata": {},
     "output_type": "execute_result"
    }
   ],
   "source": [
    "df_mobiles['Category'].value_counts()"
   ]
  },
  {
   "cell_type": "code",
   "execution_count": 10,
   "id": "bde5ed77",
   "metadata": {},
   "outputs": [],
   "source": [
    "df_tv[['ItemDesc', 'SaleValue','OrderDate', 'OrderedQuantity','Category','DataFrame']].to_csv('df_tv2.csv',index=False)\n",
    "df_laptops[['ItemDesc', 'SaleValue','OrderDate', 'OrderedQuantity','Category','DataFrame']].to_csv('df_laptops2.csv',index=False)\n",
    "df_mobiles[['ItemDesc', 'SaleValue','OrderDate', 'OrderedQuantity','Category','DataFrame']].to_csv('df_mobiles2.csv',index=False)"
   ]
  },
  {
   "cell_type": "code",
   "execution_count": 11,
   "id": "cd8049ca",
   "metadata": {},
   "outputs": [],
   "source": [
    "# dashboard prepared in Excel\n",
    "df_tv.to_csv('df_tv_full.csv',index=False)\n",
    "df_laptops.to_csv('df_laptops_full.csv',index=False)\n",
    "df_mobiles.to_csv('df_mobiles_full.csv',index=False)"
   ]
  },
  {
   "cell_type": "code",
   "execution_count": null,
   "id": "00df31a4",
   "metadata": {},
   "outputs": [],
   "source": []
  }
 ],
 "metadata": {
  "kernelspec": {
   "display_name": "Python 3 (ipykernel)",
   "language": "python",
   "name": "python3"
  },
  "language_info": {
   "codemirror_mode": {
    "name": "ipython",
    "version": 3
   },
   "file_extension": ".py",
   "mimetype": "text/x-python",
   "name": "python",
   "nbconvert_exporter": "python",
   "pygments_lexer": "ipython3",
   "version": "3.9.12"
  }
 },
 "nbformat": 4,
 "nbformat_minor": 5
}
