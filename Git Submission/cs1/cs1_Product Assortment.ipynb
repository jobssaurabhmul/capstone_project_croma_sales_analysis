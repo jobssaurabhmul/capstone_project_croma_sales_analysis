{
 "cells": [
  {
   "cell_type": "code",
   "execution_count": 1,
   "id": "6e7ca035",
   "metadata": {},
   "outputs": [],
   "source": [
    "import pandas as pd\n",
    "import numpy as np\n",
    "import re"
   ]
  },
  {
   "cell_type": "code",
   "execution_count": 2,
   "id": "0bcff5ad",
   "metadata": {},
   "outputs": [
    {
     "name": "stderr",
     "output_type": "stream",
     "text": [
      "C:\\Users\\Saurabh Mulgaonkar\\AppData\\Local\\Temp\\ipykernel_15988\\3105688937.py:3: DtypeWarning: Columns (14) have mixed types. Specify dtype option on import or set low_memory=False.\n",
      "  tv = pd.read_csv('df_tv_full.csv')\n"
     ]
    }
   ],
   "source": [
    "mobiles = pd.read_csv('df_mobiles_full.csv')\n",
    "laptops = pd.read_csv('df_laptops_full.csv')\n",
    "tv = pd.read_csv('df_tv_full.csv')"
   ]
  },
  {
   "cell_type": "code",
   "execution_count": 3,
   "id": "2f900254",
   "metadata": {},
   "outputs": [],
   "source": [
    "df_transaction = pd.read_csv(r'C:\\Users\\Saurabh Mulgaonkar\\Jupyter_Notebooks\\IT_Vedant_Files\\Projects\\Final_Project\\Python_Files\\cleaned_data\\transaction_cleaned.csv')\n",
    "# correcting below to their absolute values\n",
    "df_transaction['SaleValue'] = np.absolute(df_transaction['SaleValue'])\n",
    "df_transaction['OrderedQuantity'] = np.absolute(df_transaction['OrderedQuantity'])\n",
    "# ordered qty >0 and price >0\n",
    "df_transaction = df_transaction[df_transaction['OrderedQuantity']>0]\n",
    "df_transaction = df_transaction[df_transaction['SaleValue']>0]"
   ]
  },
  {
   "cell_type": "code",
   "execution_count": 42,
   "id": "1d58a57f",
   "metadata": {},
   "outputs": [],
   "source": [
    "df_transaction.to_csv('df_transaction_cleaned_absolute.csv',index=False)"
   ]
  },
  {
   "cell_type": "code",
   "execution_count": 25,
   "id": "77afe967",
   "metadata": {},
   "outputs": [
    {
     "name": "stdout",
     "output_type": "stream",
     "text": [
      "['A001', 'A009', 'A039', 'A027', 'A004']\n"
     ]
    }
   ],
   "source": [
    "# # top 5 brick and mortar stores by salevalue\n",
    "df_transaction[df_transaction['Ecom_BnM_Indicator']=='B&M'].groupby(['StoreCode']).agg({'SaleValue':'sum'}).sort_values(by='SaleValue', ascending=False)[:5]\n",
    "sc = df_transaction[df_transaction['Ecom_BnM_Indicator']=='B&M'].groupby(['StoreCode']).agg({'SaleValue':'sum'}).sort_values(by='SaleValue', ascending=False)[:5].index\n",
    "print(list(sc))"
   ]
  },
  {
   "cell_type": "code",
   "execution_count": null,
   "id": "ef0cd324",
   "metadata": {},
   "outputs": [],
   "source": [
    "# what is the distribution of sales for the most recent 6 months of data across the different Merchant Categories and their corresponding segments (Premium, Mainstream, Value) "
   ]
  },
  {
   "cell_type": "code",
   "execution_count": 33,
   "id": "a73c0088",
   "metadata": {},
   "outputs": [
    {
     "data": {
      "text/plain": [
       "False"
      ]
     },
     "execution_count": 33,
     "metadata": {},
     "output_type": "execute_result"
    }
   ],
   "source": [
    "mobiles['StoreCode'].all() in list(sc)"
   ]
  },
  {
   "cell_type": "code",
   "execution_count": 36,
   "id": "78a90e6c",
   "metadata": {},
   "outputs": [
    {
     "name": "stderr",
     "output_type": "stream",
     "text": [
      "C:\\Users\\Saurabh Mulgaonkar\\AppData\\Local\\Temp\\ipykernel_15988\\3004921.py:2: UserWarning: Boolean Series key will be reindexed to match DataFrame index.\n",
      "  mob_a = mobiles[mobiles['OrderDate']>='2021-07-01'][mobiles['Ecom_BnM_Indicator']=='B&M'][mobiles['StoreCode'].isin(list(sc))]\n"
     ]
    }
   ],
   "source": [
    "# Date range: 2021-07-01 to 2021-12-31\n",
    "mob_a = mobiles[mobiles['OrderDate']>='2021-07-01'][mobiles['Ecom_BnM_Indicator']=='B&M'][mobiles['StoreCode'].isin(list(sc))]"
   ]
  },
  {
   "cell_type": "code",
   "execution_count": 37,
   "id": "6e85758c",
   "metadata": {},
   "outputs": [
    {
     "name": "stderr",
     "output_type": "stream",
     "text": [
      "C:\\Users\\Saurabh Mulgaonkar\\AppData\\Local\\Temp\\ipykernel_15988\\1695328681.py:2: UserWarning: Boolean Series key will be reindexed to match DataFrame index.\n",
      "  laptops_a = laptops[laptops['OrderDate']>='2021-07-01'][laptops['Ecom_BnM_Indicator']=='B&M'][laptops['StoreCode'].isin(list(sc))]\n"
     ]
    }
   ],
   "source": [
    "# Date range: 2021-07-01 to 2021-12-31\n",
    "laptops_a = laptops[laptops['OrderDate']>='2021-07-01'][laptops['Ecom_BnM_Indicator']=='B&M'][laptops['StoreCode'].isin(list(sc))]"
   ]
  },
  {
   "cell_type": "code",
   "execution_count": 38,
   "id": "fc53186e",
   "metadata": {},
   "outputs": [
    {
     "name": "stderr",
     "output_type": "stream",
     "text": [
      "C:\\Users\\Saurabh Mulgaonkar\\AppData\\Local\\Temp\\ipykernel_15988\\1112953109.py:2: UserWarning: Boolean Series key will be reindexed to match DataFrame index.\n",
      "  tv_a = tv[tv['OrderDate']>='2021-07-01'][tv['Ecom_BnM_Indicator']=='B&M'][tv['StoreCode'].isin(list(sc))]\n"
     ]
    }
   ],
   "source": [
    "# Date range: 2021-07-01 to 2021-12-31\n",
    "tv_a = tv[tv['OrderDate']>='2021-07-01'][tv['Ecom_BnM_Indicator']=='B&M'][tv['StoreCode'].isin(list(sc))]"
   ]
  },
  {
   "cell_type": "code",
   "execution_count": 40,
   "id": "88d96be7",
   "metadata": {},
   "outputs": [],
   "source": [
    "mob_a.to_csv('mob_a.csv',index=False)\n",
    "laptops_a.to_csv('laptops_a.csv',index=False)\n",
    "tv_a.to_csv('tv_a.csv',index=False)"
   ]
  },
  {
   "cell_type": "code",
   "execution_count": null,
   "id": "87378247",
   "metadata": {},
   "outputs": [],
   "source": []
  }
 ],
 "metadata": {
  "kernelspec": {
   "display_name": "Python 3 (ipykernel)",
   "language": "python",
   "name": "python3"
  },
  "language_info": {
   "codemirror_mode": {
    "name": "ipython",
    "version": 3
   },
   "file_extension": ".py",
   "mimetype": "text/x-python",
   "name": "python",
   "nbconvert_exporter": "python",
   "pygments_lexer": "ipython3",
   "version": "3.9.12"
  }
 },
 "nbformat": 4,
 "nbformat_minor": 5
}
