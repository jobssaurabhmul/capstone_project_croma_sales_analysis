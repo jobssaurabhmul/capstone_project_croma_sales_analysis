{
 "cells": [
  {
   "cell_type": "code",
   "execution_count": 1,
   "id": "829716f1",
   "metadata": {},
   "outputs": [],
   "source": [
    "import pandas as pd\n",
    "import numpy as np"
   ]
  },
  {
   "cell_type": "code",
   "execution_count": 2,
   "id": "11953541",
   "metadata": {},
   "outputs": [],
   "source": [
    "from pandasql import sqldf"
   ]
  },
  {
   "cell_type": "code",
   "execution_count": 3,
   "id": "49fbfbe9",
   "metadata": {},
   "outputs": [],
   "source": [
    "df_campaign = pd.read_csv(r'C:\\Users\\Saurabh Mulgaonkar\\Jupyter_Notebooks\\IT_Vedant_Files\\Projects\\Final_Project\\Python_Files\\cleaned_data\\Campaign_data.csv')"
   ]
  },
  {
   "cell_type": "code",
   "execution_count": 4,
   "id": "015d2372",
   "metadata": {},
   "outputs": [],
   "source": [
    "df_customer = pd.read_csv(r'C:\\Users\\Saurabh Mulgaonkar\\Jupyter_Notebooks\\IT_Vedant_Files\\Projects\\Final_Project\\Python_Files\\cleaned_data\\customer_master_cleaned.csv')"
   ]
  },
  {
   "cell_type": "code",
   "execution_count": 5,
   "id": "6b1906ba",
   "metadata": {},
   "outputs": [],
   "source": [
    "df_transaction = pd.read_csv(r'C:\\Users\\Saurabh Mulgaonkar\\Jupyter_Notebooks\\IT_Vedant_Files\\Projects\\Final_Project\\Python_Files\\cleaned_data\\df_transaction_cleaned_absolute.csv')"
   ]
  },
  {
   "cell_type": "code",
   "execution_count": 6,
   "id": "054d9acb",
   "metadata": {},
   "outputs": [],
   "source": [
    "#Whether there was any transaction within 1 month of campaign – accordingly create an outcome variable – \n",
    "# 0 for no transactions and 1 for transactions (the transaction should have connection to the campaign) \n",
    "#Exclude records which were not sent any campaigns\n",
    "#Transactions which were not related to the campaign should not be considered either 0 or 1 but should be excluded"
   ]
  },
  {
   "cell_type": "code",
   "execution_count": 7,
   "id": "e277d9b1",
   "metadata": {},
   "outputs": [],
   "source": [
    "# dist of status of SMS campaign\n",
    "#df_campaign[df_campaign['Campaign_Channel']==\"SMS\"]['status'].value_counts()"
   ]
  },
  {
   "cell_type": "code",
   "execution_count": 8,
   "id": "51fdc2db",
   "metadata": {},
   "outputs": [],
   "source": [
    "# customers who were sent campaigns\n",
    "customers_campaigns = df_campaign['CustID'].unique()\n",
    "\n",
    "# all customers\n",
    "#all_customers = df_customer['CustID'].unique()\n",
    "#df_campaign['CustID'].nunique()\n",
    "#df_customer['CustID'].nunique()\n",
    "#df_campaign[df_campaign['CustID']=='JFRGRFjeEJVG8RJF8R1Foj8AJJ7Et8oH']"
   ]
  },
  {
   "cell_type": "code",
   "execution_count": 9,
   "id": "fd3d93d3",
   "metadata": {},
   "outputs": [],
   "source": [
    "# details of campaign customers only\n",
    "df_transaction_req = df_transaction[df_transaction['CustID'].isin(customers_campaigns)]"
   ]
  },
  {
   "cell_type": "code",
   "execution_count": 10,
   "id": "da7d78a8",
   "metadata": {},
   "outputs": [],
   "source": [
    "df_campaign['Campaign_Exec_Date'] = pd.to_datetime(df_campaign['Campaign_Exec_Date'],format=\"%Y-%m-%d\")"
   ]
  },
  {
   "cell_type": "code",
   "execution_count": 11,
   "id": "3060b03e",
   "metadata": {},
   "outputs": [],
   "source": [
    "df_campaign['Campaign_End_Date'] = pd.to_datetime(df_campaign['Campaign_Exec_Date'],format=\"%Y-%m-%d\") + pd.Timedelta(30,\"days\")"
   ]
  },
  {
   "cell_type": "code",
   "execution_count": 30,
   "id": "4d640aa0",
   "metadata": {},
   "outputs": [
    {
     "data": {
      "text/plain": [
       "(10912592, 6)"
      ]
     },
     "execution_count": 30,
     "metadata": {},
     "output_type": "execute_result"
    }
   ],
   "source": [
    "df_campaign.shape"
   ]
  },
  {
   "cell_type": "code",
   "execution_count": 29,
   "id": "ee4c8584",
   "metadata": {},
   "outputs": [
    {
     "data": {
      "text/html": [
       "<div>\n",
       "<style scoped>\n",
       "    .dataframe tbody tr th:only-of-type {\n",
       "        vertical-align: middle;\n",
       "    }\n",
       "\n",
       "    .dataframe tbody tr th {\n",
       "        vertical-align: top;\n",
       "    }\n",
       "\n",
       "    .dataframe thead th {\n",
       "        text-align: right;\n",
       "    }\n",
       "</style>\n",
       "<table border=\"1\" class=\"dataframe\">\n",
       "  <thead>\n",
       "    <tr style=\"text-align: right;\">\n",
       "      <th></th>\n",
       "      <th>CustID</th>\n",
       "      <th>status</th>\n",
       "      <th>Campaign_Exec_Date</th>\n",
       "      <th>Campaign_Channel</th>\n",
       "      <th>Campaign_End_Date</th>\n",
       "      <th>date_range</th>\n",
       "    </tr>\n",
       "  </thead>\n",
       "  <tbody>\n",
       "    <tr>\n",
       "      <th>0</th>\n",
       "      <td>11111J11RREFG1VoGo1FejtGEVV88JtM</td>\n",
       "      <td>viewed</td>\n",
       "      <td>2019-05-28</td>\n",
       "      <td>Email</td>\n",
       "      <td>2019-06-27</td>\n",
       "      <td>DatetimeIndex(['2019-05-28', '2019-05-29', '20...</td>\n",
       "    </tr>\n",
       "    <tr>\n",
       "      <th>14</th>\n",
       "      <td>11111J11RREFG1VoGo1FejtGEVV88JtM</td>\n",
       "      <td>viewed</td>\n",
       "      <td>2019-08-13</td>\n",
       "      <td>Email</td>\n",
       "      <td>2019-09-12</td>\n",
       "      <td>DatetimeIndex(['2019-08-13', '2019-08-14', '20...</td>\n",
       "    </tr>\n",
       "    <tr>\n",
       "      <th>18</th>\n",
       "      <td>11111J11RREFG1VoGo1FejtGEVV88JtM</td>\n",
       "      <td>viewed</td>\n",
       "      <td>2019-11-11</td>\n",
       "      <td>Email</td>\n",
       "      <td>2019-12-11</td>\n",
       "      <td>DatetimeIndex(['2019-11-11', '2019-11-12', '20...</td>\n",
       "    </tr>\n",
       "    <tr>\n",
       "      <th>19</th>\n",
       "      <td>11111J11RREFG1VoGo1FejtGEVV88JtM</td>\n",
       "      <td>viewed</td>\n",
       "      <td>2019-11-14</td>\n",
       "      <td>Email</td>\n",
       "      <td>2019-12-14</td>\n",
       "      <td>DatetimeIndex(['2019-11-14', '2019-11-15', '20...</td>\n",
       "    </tr>\n",
       "    <tr>\n",
       "      <th>20</th>\n",
       "      <td>11111J11RREFG1VoGo1FejtGEVV88JtM</td>\n",
       "      <td>viewed</td>\n",
       "      <td>2019-11-21</td>\n",
       "      <td>Email</td>\n",
       "      <td>2019-12-21</td>\n",
       "      <td>DatetimeIndex(['2019-11-21', '2019-11-22', '20...</td>\n",
       "    </tr>\n",
       "    <tr>\n",
       "      <th>...</th>\n",
       "      <td>...</td>\n",
       "      <td>...</td>\n",
       "      <td>...</td>\n",
       "      <td>...</td>\n",
       "      <td>...</td>\n",
       "      <td>...</td>\n",
       "    </tr>\n",
       "    <tr>\n",
       "      <th>10912585</th>\n",
       "      <td>tttttoJHGe</td>\n",
       "      <td>viewed</td>\n",
       "      <td>2020-11-22</td>\n",
       "      <td>Email</td>\n",
       "      <td>2020-12-22</td>\n",
       "      <td>0</td>\n",
       "    </tr>\n",
       "    <tr>\n",
       "      <th>10912586</th>\n",
       "      <td>tttttoJHGe</td>\n",
       "      <td>viewed</td>\n",
       "      <td>2020-11-23</td>\n",
       "      <td>Email</td>\n",
       "      <td>2020-12-23</td>\n",
       "      <td>0</td>\n",
       "    </tr>\n",
       "    <tr>\n",
       "      <th>10912587</th>\n",
       "      <td>tttttoJHGe</td>\n",
       "      <td>viewed</td>\n",
       "      <td>2020-11-24</td>\n",
       "      <td>Email</td>\n",
       "      <td>2020-12-24</td>\n",
       "      <td>0</td>\n",
       "    </tr>\n",
       "    <tr>\n",
       "      <th>10912588</th>\n",
       "      <td>tttttoJHGe</td>\n",
       "      <td>viewed</td>\n",
       "      <td>2020-11-25</td>\n",
       "      <td>Email</td>\n",
       "      <td>2020-12-25</td>\n",
       "      <td>0</td>\n",
       "    </tr>\n",
       "    <tr>\n",
       "      <th>10912589</th>\n",
       "      <td>tttttoJHGe</td>\n",
       "      <td>viewed</td>\n",
       "      <td>2020-11-26</td>\n",
       "      <td>Email</td>\n",
       "      <td>2020-12-26</td>\n",
       "      <td>0</td>\n",
       "    </tr>\n",
       "  </tbody>\n",
       "</table>\n",
       "<p>5910034 rows × 6 columns</p>\n",
       "</div>"
      ],
      "text/plain": [
       "                                    CustID  status Campaign_Exec_Date  \\\n",
       "0         11111J11RREFG1VoGo1FejtGEVV88JtM  viewed         2019-05-28   \n",
       "14        11111J11RREFG1VoGo1FejtGEVV88JtM  viewed         2019-08-13   \n",
       "18        11111J11RREFG1VoGo1FejtGEVV88JtM  viewed         2019-11-11   \n",
       "19        11111J11RREFG1VoGo1FejtGEVV88JtM  viewed         2019-11-14   \n",
       "20        11111J11RREFG1VoGo1FejtGEVV88JtM  viewed         2019-11-21   \n",
       "...                                    ...     ...                ...   \n",
       "10912585                        tttttoJHGe  viewed         2020-11-22   \n",
       "10912586                        tttttoJHGe  viewed         2020-11-23   \n",
       "10912587                        tttttoJHGe  viewed         2020-11-24   \n",
       "10912588                        tttttoJHGe  viewed         2020-11-25   \n",
       "10912589                        tttttoJHGe  viewed         2020-11-26   \n",
       "\n",
       "         Campaign_Channel Campaign_End_Date  \\\n",
       "0                   Email        2019-06-27   \n",
       "14                  Email        2019-09-12   \n",
       "18                  Email        2019-12-11   \n",
       "19                  Email        2019-12-14   \n",
       "20                  Email        2019-12-21   \n",
       "...                   ...               ...   \n",
       "10912585            Email        2020-12-22   \n",
       "10912586            Email        2020-12-23   \n",
       "10912587            Email        2020-12-24   \n",
       "10912588            Email        2020-12-25   \n",
       "10912589            Email        2020-12-26   \n",
       "\n",
       "                                                 date_range  \n",
       "0         DatetimeIndex(['2019-05-28', '2019-05-29', '20...  \n",
       "14        DatetimeIndex(['2019-08-13', '2019-08-14', '20...  \n",
       "18        DatetimeIndex(['2019-11-11', '2019-11-12', '20...  \n",
       "19        DatetimeIndex(['2019-11-14', '2019-11-15', '20...  \n",
       "20        DatetimeIndex(['2019-11-21', '2019-11-22', '20...  \n",
       "...                                                     ...  \n",
       "10912585                                                  0  \n",
       "10912586                                                  0  \n",
       "10912587                                                  0  \n",
       "10912588                                                  0  \n",
       "10912589                                                  0  \n",
       "\n",
       "[5910034 rows x 6 columns]"
      ]
     },
     "execution_count": 29,
     "metadata": {},
     "output_type": "execute_result"
    }
   ],
   "source": [
    "# taking data that has been viewed and/ or cliked bec the whole data set is huge\n",
    "df_campaign[(df_campaign['status']==\"viewed\") | (df_campaign['status']==\"click\") | (df_campaign['status']==\"clicked\")]"
   ]
  },
  {
   "cell_type": "code",
   "execution_count": 12,
   "id": "4c0e5df2",
   "metadata": {},
   "outputs": [
    {
     "data": {
      "text/plain": [
       "(10912592, 5)"
      ]
     },
     "execution_count": 12,
     "metadata": {},
     "output_type": "execute_result"
    }
   ],
   "source": [
    "df_campaign.shape"
   ]
  },
  {
   "cell_type": "code",
   "execution_count": 13,
   "id": "8cf16795",
   "metadata": {},
   "outputs": [],
   "source": [
    "def create_date_range(df,start,end):\n",
    "    ser_date_range=[]\n",
    "    for i in range(start,end):\n",
    "        ser_date_range.append(pd.date_range(df['Campaign_Exec_Date'][i],df['Campaign_End_Date'][i]))\n",
    "    return ser_date_range"
   ]
  },
  {
   "cell_type": "code",
   "execution_count": 14,
   "id": "93e93d5c",
   "metadata": {},
   "outputs": [],
   "source": [
    "test1 = create_date_range(df_campaign,0,10000)"
   ]
  },
  {
   "cell_type": "code",
   "execution_count": 15,
   "id": "c1e62636",
   "metadata": {},
   "outputs": [],
   "source": [
    "df_campaign[\"date_range\"] = 0"
   ]
  },
  {
   "cell_type": "code",
   "execution_count": 16,
   "id": "41b11878",
   "metadata": {},
   "outputs": [
    {
     "name": "stderr",
     "output_type": "stream",
     "text": [
      "C:\\Users\\Saurabh Mulgaonkar\\AppData\\Local\\Temp\\ipykernel_18740\\470322135.py:1: SettingWithCopyWarning: \n",
      "A value is trying to be set on a copy of a slice from a DataFrame\n",
      "\n",
      "See the caveats in the documentation: https://pandas.pydata.org/pandas-docs/stable/user_guide/indexing.html#returning-a-view-versus-a-copy\n",
      "  df_campaign[\"date_range\"].iloc[:10000]= test1\n"
     ]
    }
   ],
   "source": [
    "df_campaign[\"date_range\"].iloc[:10000]= test1"
   ]
  },
  {
   "cell_type": "code",
   "execution_count": 17,
   "id": "6633ed6e",
   "metadata": {},
   "outputs": [],
   "source": [
    "test2 = df_campaign.iloc[:10000,:]"
   ]
  },
  {
   "cell_type": "code",
   "execution_count": 18,
   "id": "225407b2",
   "metadata": {},
   "outputs": [],
   "source": [
    "idx1 = pd.to_datetime(df_transaction_req['OrderDate'],format=\"%Y-%m-%d\").isin(test2['date_range'][0])[pd.to_datetime(df_transaction_req['OrderDate'],format=\"%Y-%m-%d\").isin(test2['date_range'][0])==True].index"
   ]
  },
  {
   "cell_type": "code",
   "execution_count": 20,
   "id": "a281bc92",
   "metadata": {},
   "outputs": [
    {
     "data": {
      "text/html": [
       "<div>\n",
       "<style scoped>\n",
       "    .dataframe tbody tr th:only-of-type {\n",
       "        vertical-align: middle;\n",
       "    }\n",
       "\n",
       "    .dataframe tbody tr th {\n",
       "        vertical-align: top;\n",
       "    }\n",
       "\n",
       "    .dataframe thead th {\n",
       "        text-align: right;\n",
       "    }\n",
       "</style>\n",
       "<table border=\"1\" class=\"dataframe\">\n",
       "  <thead>\n",
       "    <tr style=\"text-align: right;\">\n",
       "      <th></th>\n",
       "      <th>SaleValue</th>\n",
       "    </tr>\n",
       "    <tr>\n",
       "      <th>CustID</th>\n",
       "      <th></th>\n",
       "    </tr>\n",
       "  </thead>\n",
       "  <tbody>\n",
       "    <tr>\n",
       "      <th>11111oGeEMotjJGVE81EjERjMHVjVtR7</th>\n",
       "      <td>2038.98</td>\n",
       "    </tr>\n",
       "    <tr>\n",
       "      <th>1111jHtt8FAoGj8eEtG1HRVRoG1RFeR1</th>\n",
       "      <td>38758.98</td>\n",
       "    </tr>\n",
       "    <tr>\n",
       "      <th>111e8VAVMVtjR8eJAJJEJJFEEJotJHAE</th>\n",
       "      <td>61196.94</td>\n",
       "    </tr>\n",
       "    <tr>\n",
       "      <th>1171FFVGFVE7Jj8oj8G7Fo8MGe7j11eM</th>\n",
       "      <td>48919.20</td>\n",
       "    </tr>\n",
       "    <tr>\n",
       "      <th>117JMJEGMMH7G1EjMFVR77jAA1eAVoM7</th>\n",
       "      <td>61198.98</td>\n",
       "    </tr>\n",
       "    <tr>\n",
       "      <th>...</th>\n",
       "      <td>...</td>\n",
       "    </tr>\n",
       "    <tr>\n",
       "      <th>ttt1jHJ71JEEG8tjGRGHeJHMeoAtFeJ8</th>\n",
       "      <td>79139.76</td>\n",
       "    </tr>\n",
       "    <tr>\n",
       "      <th>tttAHVetej7RAFF118RG1MRMoj88ttV8</th>\n",
       "      <td>1324.98</td>\n",
       "    </tr>\n",
       "    <tr>\n",
       "      <th>tttAVR1MRAFGJEjM8AE81eVMjJ7EeeHH</th>\n",
       "      <td>22647.06</td>\n",
       "    </tr>\n",
       "    <tr>\n",
       "      <th>tttJVjGGeH78VeFjtHRejtoJAMJA78AV</th>\n",
       "      <td>17954.04</td>\n",
       "    </tr>\n",
       "    <tr>\n",
       "      <th>ttttM7teeVHG8EH8F7o81RtEtttFEEAe</th>\n",
       "      <td>2038.98</td>\n",
       "    </tr>\n",
       "  </tbody>\n",
       "</table>\n",
       "<p>10251 rows × 1 columns</p>\n",
       "</div>"
      ],
      "text/plain": [
       "                                  SaleValue\n",
       "CustID                                     \n",
       "11111oGeEMotjJGVE81EjERjMHVjVtR7    2038.98\n",
       "1111jHtt8FAoGj8eEtG1HRVRoG1RFeR1   38758.98\n",
       "111e8VAVMVtjR8eJAJJEJJFEEJotJHAE   61196.94\n",
       "1171FFVGFVE7Jj8oj8G7Fo8MGe7j11eM   48919.20\n",
       "117JMJEGMMH7G1EjMFVR77jAA1eAVoM7   61198.98\n",
       "...                                     ...\n",
       "ttt1jHJ71JEEG8tjGRGHeJHMeoAtFeJ8   79139.76\n",
       "tttAHVetej7RAFF118RG1MRMoj88ttV8    1324.98\n",
       "tttAVR1MRAFGJEjM8AE81eVMjJ7EeeHH   22647.06\n",
       "tttJVjGGeH78VeFjtHRejtoJAMJA78AV   17954.04\n",
       "ttttM7teeVHG8EH8F7o81RtEtttFEEAe    2038.98\n",
       "\n",
       "[10251 rows x 1 columns]"
      ]
     },
     "execution_count": 20,
     "metadata": {},
     "output_type": "execute_result"
    }
   ],
   "source": [
    "df_transaction_req.loc[idx1,:].groupby('CustID').agg({'SaleValue':'sum'})"
   ]
  },
  {
   "cell_type": "code",
   "execution_count": 26,
   "id": "6044fba8",
   "metadata": {},
   "outputs": [
    {
     "data": {
      "text/html": [
       "<div>\n",
       "<style scoped>\n",
       "    .dataframe tbody tr th:only-of-type {\n",
       "        vertical-align: middle;\n",
       "    }\n",
       "\n",
       "    .dataframe tbody tr th {\n",
       "        vertical-align: top;\n",
       "    }\n",
       "\n",
       "    .dataframe thead th {\n",
       "        text-align: right;\n",
       "    }\n",
       "</style>\n",
       "<table border=\"1\" class=\"dataframe\">\n",
       "  <thead>\n",
       "    <tr style=\"text-align: right;\">\n",
       "      <th></th>\n",
       "      <th>CustID</th>\n",
       "      <th>status</th>\n",
       "      <th>Campaign_Exec_Date</th>\n",
       "      <th>Campaign_Channel</th>\n",
       "      <th>Campaign_End_Date</th>\n",
       "      <th>date_range</th>\n",
       "    </tr>\n",
       "  </thead>\n",
       "  <tbody>\n",
       "    <tr>\n",
       "      <th>0</th>\n",
       "      <td>11111J11RREFG1VoGo1FejtGEVV88JtM</td>\n",
       "      <td>viewed</td>\n",
       "      <td>2019-05-28</td>\n",
       "      <td>Email</td>\n",
       "      <td>2019-06-27</td>\n",
       "      <td>DatetimeIndex(['2019-05-28', '2019-05-29', '20...</td>\n",
       "    </tr>\n",
       "    <tr>\n",
       "      <th>1</th>\n",
       "      <td>11111J11RREFG1VoGo1FejtGEVV88JtM</td>\n",
       "      <td>delivered</td>\n",
       "      <td>2019-05-29</td>\n",
       "      <td>Email</td>\n",
       "      <td>2019-06-28</td>\n",
       "      <td>DatetimeIndex(['2019-05-29', '2019-05-30', '20...</td>\n",
       "    </tr>\n",
       "    <tr>\n",
       "      <th>2</th>\n",
       "      <td>11111J11RREFG1VoGo1FejtGEVV88JtM</td>\n",
       "      <td>delivered</td>\n",
       "      <td>2019-05-30</td>\n",
       "      <td>Email</td>\n",
       "      <td>2019-06-29</td>\n",
       "      <td>DatetimeIndex(['2019-05-30', '2019-05-31', '20...</td>\n",
       "    </tr>\n",
       "    <tr>\n",
       "      <th>3</th>\n",
       "      <td>11111J11RREFG1VoGo1FejtGEVV88JtM</td>\n",
       "      <td>delivered</td>\n",
       "      <td>2019-06-03</td>\n",
       "      <td>Email</td>\n",
       "      <td>2019-07-03</td>\n",
       "      <td>DatetimeIndex(['2019-06-03', '2019-06-04', '20...</td>\n",
       "    </tr>\n",
       "    <tr>\n",
       "      <th>4</th>\n",
       "      <td>11111J11RREFG1VoGo1FejtGEVV88JtM</td>\n",
       "      <td>delivered</td>\n",
       "      <td>2019-06-04</td>\n",
       "      <td>Email</td>\n",
       "      <td>2019-07-04</td>\n",
       "      <td>DatetimeIndex(['2019-06-04', '2019-06-05', '20...</td>\n",
       "    </tr>\n",
       "    <tr>\n",
       "      <th>...</th>\n",
       "      <td>...</td>\n",
       "      <td>...</td>\n",
       "      <td>...</td>\n",
       "      <td>...</td>\n",
       "      <td>...</td>\n",
       "      <td>...</td>\n",
       "    </tr>\n",
       "    <tr>\n",
       "      <th>10912587</th>\n",
       "      <td>tttttoJHGe</td>\n",
       "      <td>viewed</td>\n",
       "      <td>2020-11-24</td>\n",
       "      <td>Email</td>\n",
       "      <td>2020-12-24</td>\n",
       "      <td>0</td>\n",
       "    </tr>\n",
       "    <tr>\n",
       "      <th>10912588</th>\n",
       "      <td>tttttoJHGe</td>\n",
       "      <td>viewed</td>\n",
       "      <td>2020-11-25</td>\n",
       "      <td>Email</td>\n",
       "      <td>2020-12-25</td>\n",
       "      <td>0</td>\n",
       "    </tr>\n",
       "    <tr>\n",
       "      <th>10912589</th>\n",
       "      <td>tttttoJHGe</td>\n",
       "      <td>viewed</td>\n",
       "      <td>2020-11-26</td>\n",
       "      <td>Email</td>\n",
       "      <td>2020-12-26</td>\n",
       "      <td>0</td>\n",
       "    </tr>\n",
       "    <tr>\n",
       "      <th>10912590</th>\n",
       "      <td>tttttoJHGe</td>\n",
       "      <td>delivered</td>\n",
       "      <td>2020-11-27</td>\n",
       "      <td>Email</td>\n",
       "      <td>2020-12-27</td>\n",
       "      <td>0</td>\n",
       "    </tr>\n",
       "    <tr>\n",
       "      <th>10912591</th>\n",
       "      <td>tttttoJHGe</td>\n",
       "      <td>delivered</td>\n",
       "      <td>2020-11-28</td>\n",
       "      <td>Email</td>\n",
       "      <td>2020-12-28</td>\n",
       "      <td>0</td>\n",
       "    </tr>\n",
       "  </tbody>\n",
       "</table>\n",
       "<p>10912592 rows × 6 columns</p>\n",
       "</div>"
      ],
      "text/plain": [
       "                                    CustID     status Campaign_Exec_Date  \\\n",
       "0         11111J11RREFG1VoGo1FejtGEVV88JtM     viewed         2019-05-28   \n",
       "1         11111J11RREFG1VoGo1FejtGEVV88JtM  delivered         2019-05-29   \n",
       "2         11111J11RREFG1VoGo1FejtGEVV88JtM  delivered         2019-05-30   \n",
       "3         11111J11RREFG1VoGo1FejtGEVV88JtM  delivered         2019-06-03   \n",
       "4         11111J11RREFG1VoGo1FejtGEVV88JtM  delivered         2019-06-04   \n",
       "...                                    ...        ...                ...   \n",
       "10912587                        tttttoJHGe     viewed         2020-11-24   \n",
       "10912588                        tttttoJHGe     viewed         2020-11-25   \n",
       "10912589                        tttttoJHGe     viewed         2020-11-26   \n",
       "10912590                        tttttoJHGe  delivered         2020-11-27   \n",
       "10912591                        tttttoJHGe  delivered         2020-11-28   \n",
       "\n",
       "         Campaign_Channel Campaign_End_Date  \\\n",
       "0                   Email        2019-06-27   \n",
       "1                   Email        2019-06-28   \n",
       "2                   Email        2019-06-29   \n",
       "3                   Email        2019-07-03   \n",
       "4                   Email        2019-07-04   \n",
       "...                   ...               ...   \n",
       "10912587            Email        2020-12-24   \n",
       "10912588            Email        2020-12-25   \n",
       "10912589            Email        2020-12-26   \n",
       "10912590            Email        2020-12-27   \n",
       "10912591            Email        2020-12-28   \n",
       "\n",
       "                                                 date_range  \n",
       "0         DatetimeIndex(['2019-05-28', '2019-05-29', '20...  \n",
       "1         DatetimeIndex(['2019-05-29', '2019-05-30', '20...  \n",
       "2         DatetimeIndex(['2019-05-30', '2019-05-31', '20...  \n",
       "3         DatetimeIndex(['2019-06-03', '2019-06-04', '20...  \n",
       "4         DatetimeIndex(['2019-06-04', '2019-06-05', '20...  \n",
       "...                                                     ...  \n",
       "10912587                                                  0  \n",
       "10912588                                                  0  \n",
       "10912589                                                  0  \n",
       "10912590                                                  0  \n",
       "10912591                                                  0  \n",
       "\n",
       "[10912592 rows x 6 columns]"
      ]
     },
     "execution_count": 26,
     "metadata": {},
     "output_type": "execute_result"
    }
   ],
   "source": [
    "df_campaign"
   ]
  },
  {
   "cell_type": "code",
   "execution_count": 21,
   "id": "b6ee30be",
   "metadata": {},
   "outputs": [],
   "source": [
    "df_campaign[\"date_range\"].iloc[:10000] = create_date_range(df_campaign,0,10000)"
   ]
  },
  {
   "cell_type": "code",
   "execution_count": 22,
   "id": "a26ce269",
   "metadata": {},
   "outputs": [],
   "source": [
    "df_campaign[\"date_range\"].iloc[10000:30000] = create_date_range(df_campaign,10000,30000)"
   ]
  },
  {
   "cell_type": "code",
   "execution_count": 24,
   "id": "8ee88273",
   "metadata": {},
   "outputs": [],
   "source": [
    "df_campaign[\"date_range\"].iloc[30000:100000] = create_date_range(df_campaign,30000,100000)"
   ]
  },
  {
   "cell_type": "code",
   "execution_count": null,
   "id": "5fa51bb5",
   "metadata": {},
   "outputs": [],
   "source": [
    "df_campaign[\"date_range\"].iloc[100000:200000] = create_date_range(df_campaign,100000:200000)"
   ]
  },
  {
   "cell_type": "code",
   "execution_count": null,
   "id": "188dfdde",
   "metadata": {},
   "outputs": [],
   "source": []
  },
  {
   "cell_type": "code",
   "execution_count": null,
   "id": "296c2474",
   "metadata": {},
   "outputs": [],
   "source": []
  },
  {
   "cell_type": "code",
   "execution_count": null,
   "id": "eeaef867",
   "metadata": {},
   "outputs": [],
   "source": []
  },
  {
   "cell_type": "code",
   "execution_count": null,
   "id": "2bd10b44",
   "metadata": {},
   "outputs": [],
   "source": []
  },
  {
   "cell_type": "code",
   "execution_count": null,
   "id": "d802ea9d",
   "metadata": {},
   "outputs": [],
   "source": []
  },
  {
   "cell_type": "code",
   "execution_count": null,
   "id": "01d78fb5",
   "metadata": {},
   "outputs": [],
   "source": []
  },
  {
   "cell_type": "code",
   "execution_count": null,
   "id": "7cc551ba",
   "metadata": {},
   "outputs": [],
   "source": []
  },
  {
   "cell_type": "code",
   "execution_count": null,
   "id": "6bcb52f6",
   "metadata": {},
   "outputs": [],
   "source": []
  },
  {
   "cell_type": "code",
   "execution_count": null,
   "id": "c968986f",
   "metadata": {},
   "outputs": [],
   "source": []
  },
  {
   "cell_type": "code",
   "execution_count": null,
   "id": "bedfcc53",
   "metadata": {},
   "outputs": [],
   "source": []
  },
  {
   "cell_type": "code",
   "execution_count": null,
   "id": "fc5cb1aa",
   "metadata": {},
   "outputs": [],
   "source": []
  },
  {
   "cell_type": "code",
   "execution_count": null,
   "id": "c747d6f2",
   "metadata": {},
   "outputs": [],
   "source": [
    "query = '''\n",
    "SELECT * FROM df_transaction_req\n",
    "WHERE OrderDate IN (SELECT date_range FROM test2)\n",
    "GROUP BY CustID, OrderDate\n",
    "'''\n",
    "print(sqldf(query))"
   ]
  },
  {
   "cell_type": "code",
   "execution_count": null,
   "id": "207b71fd",
   "metadata": {},
   "outputs": [],
   "source": [
    "query = '''\n",
    "SELECT CustID, SUM(SaleValue) FROM df_transaction_req\n",
    "WHERE OrderDate IN (SELECT date_range FROM test2)\n",
    "GROUP BY CustID, OrderDate\n",
    "'''\n",
    "print(sqldf(query))"
   ]
  },
  {
   "cell_type": "code",
   "execution_count": null,
   "id": "18b3e96d",
   "metadata": {},
   "outputs": [],
   "source": []
  },
  {
   "cell_type": "code",
   "execution_count": null,
   "id": "f89103cf",
   "metadata": {},
   "outputs": [],
   "source": []
  },
  {
   "cell_type": "code",
   "execution_count": null,
   "id": "543575c9",
   "metadata": {},
   "outputs": [],
   "source": [
    "campaign_dates_by_cust = df_campaign.groupby('CustID')['Campaign_Exec_Date'].apply(\",\".join).apply(lambda x:x.split(','))"
   ]
  },
  {
   "cell_type": "code",
   "execution_count": null,
   "id": "5918a44e",
   "metadata": {},
   "outputs": [],
   "source": [
    "campaign_dates_by_cust"
   ]
  },
  {
   "cell_type": "code",
   "execution_count": null,
   "id": "ef749f52",
   "metadata": {},
   "outputs": [],
   "source": [
    "x_prime = campaign_dates_by_cust.sort_index(ascending=True)[0]"
   ]
  },
  {
   "cell_type": "code",
   "execution_count": null,
   "id": "bff7cba1",
   "metadata": {},
   "outputs": [],
   "source": [
    "x = df_transaction_req[df_transaction_req['CustID']==\"11111J11RREFG1VoGo1FejtGEVV88JtM\"].groupby('CustID')['OrderDate'].apply(\",\".join).apply(lambda x: x.split(','))[0]"
   ]
  },
  {
   "cell_type": "code",
   "execution_count": null,
   "id": "eb7f7e01",
   "metadata": {},
   "outputs": [],
   "source": [
    "x"
   ]
  },
  {
   "cell_type": "code",
   "execution_count": null,
   "id": "04b87e88",
   "metadata": {},
   "outputs": [],
   "source": [
    "pd.to_datetime(x)"
   ]
  },
  {
   "cell_type": "code",
   "execution_count": null,
   "id": "f4b3d9be",
   "metadata": {},
   "outputs": [],
   "source": [
    "x_prime2 = pd.date_range(pd.to_datetime(x_prime[0],format=\"%Y-%m-%d\"),pd.to_datetime(x_prime[-1],format=\"%Y-%m-%d\"))"
   ]
  },
  {
   "cell_type": "code",
   "execution_count": null,
   "id": "d5e8bb7b",
   "metadata": {},
   "outputs": [],
   "source": [
    "x_prime2"
   ]
  },
  {
   "cell_type": "code",
   "execution_count": null,
   "id": "20d52f18",
   "metadata": {
    "scrolled": true
   },
   "outputs": [],
   "source": [
    "any(i in pd.to_datetime(x) for i in x_prime2)"
   ]
  },
  {
   "cell_type": "code",
   "execution_count": null,
   "id": "2cd0adf2",
   "metadata": {},
   "outputs": [],
   "source": [
    "df_transaction_req.groupby('CustID')[]"
   ]
  },
  {
   "cell_type": "code",
   "execution_count": null,
   "id": "d9579da1",
   "metadata": {},
   "outputs": [],
   "source": [
    "df_transaction_req['OrderDate'].isin(campaign_dates_by_cust)"
   ]
  },
  {
   "cell_type": "code",
   "execution_count": null,
   "id": "23d85f35",
   "metadata": {},
   "outputs": [],
   "source": [
    "df_transaction.head()"
   ]
  },
  {
   "cell_type": "code",
   "execution_count": null,
   "id": "2c02a40e",
   "metadata": {},
   "outputs": [],
   "source": [
    "# adding 30 days to exec date for campaign effectiveness consideration\n",
    "#df_campaign['To_Date'] = pd.to_datetime(df_campaign['Campaign_Exec_Date'],format=\"%Y-%m-%d\") + pd.Timedelta(30,'days')"
   ]
  },
  {
   "cell_type": "code",
   "execution_count": null,
   "id": "f52e93dc",
   "metadata": {},
   "outputs": [],
   "source": [
    "# convert to datetime\n",
    "#df_campaign['Campaign_Exec_Date'] = pd.to_datetime(df_campaign['Campaign_Exec_Date'],format=\"%Y-%m-%d\")"
   ]
  },
  {
   "cell_type": "code",
   "execution_count": null,
   "id": "0499f9f9",
   "metadata": {},
   "outputs": [],
   "source": [
    "# 11111J11RREFG1VoGo1FejtGEVV88JtM\n",
    "# df_campaign['To_Date'] - pd.to_datetime(df_campaign['Campaign_Exec_Date'],format=\"%Y-%m-%d\")\n",
    "#l=[]\n",
    "#for row in range(df_campaign.shape[0]):\n",
    "#    date_row = list(pd.date_range(df_campaign['Campaign_Exec_Date'][row], df_campaign['To_Date'][row]).date)\n",
    "#    l.append(date_row)"
   ]
  },
  {
   "cell_type": "code",
   "execution_count": null,
   "id": "0c939b25",
   "metadata": {
    "scrolled": true
   },
   "outputs": [],
   "source": [
    "#query = '''\n",
    "#SELECT CustID, OrderDate, SUM(SaleValue) FROM df_transaction\n",
    "#WHERE \n",
    "#OrderDate >= \"2019-12-25\" and OrderDate <= \"2020-01-25\"\n",
    "#GROUP BY CustID, OrderDate\n",
    "#'''\n",
    "#print(sqldf(query))"
   ]
  },
  {
   "cell_type": "code",
   "execution_count": null,
   "id": "acd4a2da",
   "metadata": {},
   "outputs": [],
   "source": [
    "#df_transaction.groupby(['CustID']).agg({'SaleValue':'sum'})[(df_transaction['OrderDate'] >= \"2019-12-25\") | (df_transaction['OrderDate'] <= \"2020-01-25\") ]"
   ]
  },
  {
   "cell_type": "code",
   "execution_count": null,
   "id": "12107e1e",
   "metadata": {},
   "outputs": [],
   "source": [
    "#df_transaction[df_transaction['CustID']=='JFRGRFjeEJVG8RJF8R1Foj8AJJ7Et8oH']"
   ]
  },
  {
   "cell_type": "code",
   "execution_count": null,
   "id": "67bfb92a",
   "metadata": {},
   "outputs": [],
   "source": [
    "# transaction details of customer campaigns\n",
    "#df_transaction[df_transaction['CustID'].isin(customers_campaigns)]"
   ]
  },
  {
   "cell_type": "code",
   "execution_count": null,
   "id": "84c9efad",
   "metadata": {},
   "outputs": [],
   "source": [
    "# customers found\n",
    "# transaction dates such that wihtin one month there is a transaction or not"
   ]
  }
 ],
 "metadata": {
  "kernelspec": {
   "display_name": "Python 3 (ipykernel)",
   "language": "python",
   "name": "python3"
  },
  "language_info": {
   "codemirror_mode": {
    "name": "ipython",
    "version": 3
   },
   "file_extension": ".py",
   "mimetype": "text/x-python",
   "name": "python",
   "nbconvert_exporter": "python",
   "pygments_lexer": "ipython3",
   "version": "3.9.12"
  }
 },
 "nbformat": 4,
 "nbformat_minor": 5
}
